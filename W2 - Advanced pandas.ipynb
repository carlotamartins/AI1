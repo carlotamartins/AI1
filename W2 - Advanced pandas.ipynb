{
 "cells": [
  {
   "cell_type": "markdown",
   "metadata": {
    "id": "YrmP6_jFUuGf"
   },
   "source": [
    "# Pandas II"
   ]
  },
  {
   "cell_type": "markdown",
   "metadata": {
    "id": "cWwCZm5uUuGp"
   },
   "source": [
    "Pandas is a python library that provides high-performance data manipulation and analysis tools. To use it, We need to import it as"
   ]
  },
  {
   "cell_type": "code",
   "execution_count": 1,
   "metadata": {},
   "outputs": [],
   "source": [
    "import pandas as pd"
   ]
  },
  {
   "cell_type": "markdown",
   "metadata": {},
   "source": [
    "In the following link, you will be able to download a dataset that contains infromation about different characteristics of automobiles, such as body-style, wheel-base, engine-type, price, mileage, horsepower and many more. \n",
    "\n",
    "https://raw.githubusercontent.com/jnin/information-systems/main/data/Automobile_data.csv\n",
    "\n",
    "Usually, we would download the file and save it, and then **open it in Anaconda**. However for this notebook we will load it directly from the website using the following code:"
   ]
  },
  {
   "cell_type": "code",
   "execution_count": 2,
   "metadata": {
    "ExecuteTime": {
     "end_time": "2019-12-13T09:14:00.267489Z",
     "start_time": "2019-12-13T09:14:00.194213Z"
    },
    "id": "kmgws1c0UuGq"
   },
   "outputs": [],
   "source": [
    "df = pd.read_csv('https://raw.githubusercontent.com/jnin/information-systems/main/data/Automobile_data.csv', sep=',', index_col='index')"
   ]
  },
  {
   "cell_type": "markdown",
   "metadata": {
    "id": "LY6mO-yrUuGs"
   },
   "source": [
    "Do not worry about the previous line. We haven't seen this statement in class. Therefore, you are not supposed to know this. For your undestanding, the `.read_csv()` function reads all the content in a file and saves it in a DataFrame. If you type `df` you should obtain something like this"
   ]
  },
  {
   "cell_type": "code",
   "execution_count": 3,
   "metadata": {
    "ExecuteTime": {
     "end_time": "2019-12-13T09:14:15.227001Z",
     "start_time": "2019-12-13T09:14:15.160689Z"
    },
    "colab": {
     "base_uri": "https://localhost:8080/",
     "height": 416
    },
    "id": "eN1QKjH_UuGt",
    "outputId": "ba3f8292-4aee-43ab-a507-4c0e89e8056e"
   },
   "outputs": [
    {
     "data": {
      "text/html": [
       "<div>\n",
       "<style scoped>\n",
       "    .dataframe tbody tr th:only-of-type {\n",
       "        vertical-align: middle;\n",
       "    }\n",
       "\n",
       "    .dataframe tbody tr th {\n",
       "        vertical-align: top;\n",
       "    }\n",
       "\n",
       "    .dataframe thead th {\n",
       "        text-align: right;\n",
       "    }\n",
       "</style>\n",
       "<table border=\"1\" class=\"dataframe\">\n",
       "  <thead>\n",
       "    <tr style=\"text-align: right;\">\n",
       "      <th></th>\n",
       "      <th>company</th>\n",
       "      <th>body-style</th>\n",
       "      <th>wheel-base</th>\n",
       "      <th>length</th>\n",
       "      <th>engine-type</th>\n",
       "      <th>num-of-cylinders</th>\n",
       "      <th>horsepower</th>\n",
       "      <th>average-mileage</th>\n",
       "      <th>price</th>\n",
       "    </tr>\n",
       "    <tr>\n",
       "      <th>index</th>\n",
       "      <th></th>\n",
       "      <th></th>\n",
       "      <th></th>\n",
       "      <th></th>\n",
       "      <th></th>\n",
       "      <th></th>\n",
       "      <th></th>\n",
       "      <th></th>\n",
       "      <th></th>\n",
       "    </tr>\n",
       "  </thead>\n",
       "  <tbody>\n",
       "    <tr>\n",
       "      <th>0</th>\n",
       "      <td>alfa-romero</td>\n",
       "      <td>convertible</td>\n",
       "      <td>88.6</td>\n",
       "      <td>168.8</td>\n",
       "      <td>dohc</td>\n",
       "      <td>four</td>\n",
       "      <td>111</td>\n",
       "      <td>21</td>\n",
       "      <td>13495.0</td>\n",
       "    </tr>\n",
       "    <tr>\n",
       "      <th>1</th>\n",
       "      <td>alfa-romero</td>\n",
       "      <td>convertible</td>\n",
       "      <td>88.6</td>\n",
       "      <td>168.8</td>\n",
       "      <td>dohc</td>\n",
       "      <td>four</td>\n",
       "      <td>111</td>\n",
       "      <td>21</td>\n",
       "      <td>16500.0</td>\n",
       "    </tr>\n",
       "    <tr>\n",
       "      <th>2</th>\n",
       "      <td>alfa-romero</td>\n",
       "      <td>hatchback</td>\n",
       "      <td>94.5</td>\n",
       "      <td>171.2</td>\n",
       "      <td>ohcv</td>\n",
       "      <td>six</td>\n",
       "      <td>154</td>\n",
       "      <td>19</td>\n",
       "      <td>16500.0</td>\n",
       "    </tr>\n",
       "    <tr>\n",
       "      <th>3</th>\n",
       "      <td>audi</td>\n",
       "      <td>sedan</td>\n",
       "      <td>99.8</td>\n",
       "      <td>176.6</td>\n",
       "      <td>ohc</td>\n",
       "      <td>four</td>\n",
       "      <td>102</td>\n",
       "      <td>24</td>\n",
       "      <td>13950.0</td>\n",
       "    </tr>\n",
       "    <tr>\n",
       "      <th>4</th>\n",
       "      <td>audi</td>\n",
       "      <td>sedan</td>\n",
       "      <td>99.4</td>\n",
       "      <td>176.6</td>\n",
       "      <td>ohc</td>\n",
       "      <td>five</td>\n",
       "      <td>115</td>\n",
       "      <td>18</td>\n",
       "      <td>17450.0</td>\n",
       "    </tr>\n",
       "    <tr>\n",
       "      <th>...</th>\n",
       "      <td>...</td>\n",
       "      <td>...</td>\n",
       "      <td>...</td>\n",
       "      <td>...</td>\n",
       "      <td>...</td>\n",
       "      <td>...</td>\n",
       "      <td>...</td>\n",
       "      <td>...</td>\n",
       "      <td>...</td>\n",
       "    </tr>\n",
       "    <tr>\n",
       "      <th>81</th>\n",
       "      <td>volkswagen</td>\n",
       "      <td>sedan</td>\n",
       "      <td>97.3</td>\n",
       "      <td>171.7</td>\n",
       "      <td>ohc</td>\n",
       "      <td>four</td>\n",
       "      <td>85</td>\n",
       "      <td>27</td>\n",
       "      <td>7975.0</td>\n",
       "    </tr>\n",
       "    <tr>\n",
       "      <th>82</th>\n",
       "      <td>volkswagen</td>\n",
       "      <td>sedan</td>\n",
       "      <td>97.3</td>\n",
       "      <td>171.7</td>\n",
       "      <td>ohc</td>\n",
       "      <td>four</td>\n",
       "      <td>52</td>\n",
       "      <td>37</td>\n",
       "      <td>7995.0</td>\n",
       "    </tr>\n",
       "    <tr>\n",
       "      <th>86</th>\n",
       "      <td>volkswagen</td>\n",
       "      <td>sedan</td>\n",
       "      <td>97.3</td>\n",
       "      <td>171.7</td>\n",
       "      <td>ohc</td>\n",
       "      <td>four</td>\n",
       "      <td>100</td>\n",
       "      <td>26</td>\n",
       "      <td>9995.0</td>\n",
       "    </tr>\n",
       "    <tr>\n",
       "      <th>87</th>\n",
       "      <td>volvo</td>\n",
       "      <td>sedan</td>\n",
       "      <td>104.3</td>\n",
       "      <td>188.8</td>\n",
       "      <td>ohc</td>\n",
       "      <td>four</td>\n",
       "      <td>114</td>\n",
       "      <td>23</td>\n",
       "      <td>12940.0</td>\n",
       "    </tr>\n",
       "    <tr>\n",
       "      <th>88</th>\n",
       "      <td>volvo</td>\n",
       "      <td>wagon</td>\n",
       "      <td>104.3</td>\n",
       "      <td>188.8</td>\n",
       "      <td>ohc</td>\n",
       "      <td>four</td>\n",
       "      <td>114</td>\n",
       "      <td>23</td>\n",
       "      <td>13415.0</td>\n",
       "    </tr>\n",
       "  </tbody>\n",
       "</table>\n",
       "<p>61 rows × 9 columns</p>\n",
       "</div>"
      ],
      "text/plain": [
       "           company   body-style  wheel-base  length engine-type  \\\n",
       "index                                                             \n",
       "0      alfa-romero  convertible        88.6   168.8        dohc   \n",
       "1      alfa-romero  convertible        88.6   168.8        dohc   \n",
       "2      alfa-romero    hatchback        94.5   171.2        ohcv   \n",
       "3             audi        sedan        99.8   176.6         ohc   \n",
       "4             audi        sedan        99.4   176.6         ohc   \n",
       "...            ...          ...         ...     ...         ...   \n",
       "81      volkswagen        sedan        97.3   171.7         ohc   \n",
       "82      volkswagen        sedan        97.3   171.7         ohc   \n",
       "86      volkswagen        sedan        97.3   171.7         ohc   \n",
       "87           volvo        sedan       104.3   188.8         ohc   \n",
       "88           volvo        wagon       104.3   188.8         ohc   \n",
       "\n",
       "      num-of-cylinders  horsepower  average-mileage    price  \n",
       "index                                                         \n",
       "0                 four         111               21  13495.0  \n",
       "1                 four         111               21  16500.0  \n",
       "2                  six         154               19  16500.0  \n",
       "3                 four         102               24  13950.0  \n",
       "4                 five         115               18  17450.0  \n",
       "...                ...         ...              ...      ...  \n",
       "81                four          85               27   7975.0  \n",
       "82                four          52               37   7995.0  \n",
       "86                four         100               26   9995.0  \n",
       "87                four         114               23  12940.0  \n",
       "88                four         114               23  13415.0  \n",
       "\n",
       "[61 rows x 9 columns]"
      ]
     },
     "execution_count": 3,
     "metadata": {},
     "output_type": "execute_result"
    }
   ],
   "source": [
    "df"
   ]
  },
  {
   "cell_type": "markdown",
   "metadata": {
    "id": "zwiHHzdWWVuM"
   },
   "source": [
    "<div class=\"alert alert-info\"><b>  Exercise 1 </b>\n",
    "\n",
    "Visualize the first 7 rows of the data frame using the function ```head()``` and retrive the number of rows and columns using ```.shape```\n",
    "\n",
    "</div>"
   ]
  },
  {
   "cell_type": "code",
   "execution_count": 4,
   "metadata": {
    "ExecuteTime": {
     "end_time": "2019-12-13T09:14:27.292513Z",
     "start_time": "2019-12-13T09:14:27.249607Z"
    },
    "colab": {
     "base_uri": "https://localhost:8080/",
     "height": 264
    },
    "id": "Rw0QCK2dUuGv",
    "outputId": "681092dd-f6c7-4df7-f9dd-a309e543b548"
   },
   "outputs": [
    {
     "data": {
      "text/html": [
       "<div>\n",
       "<style scoped>\n",
       "    .dataframe tbody tr th:only-of-type {\n",
       "        vertical-align: middle;\n",
       "    }\n",
       "\n",
       "    .dataframe tbody tr th {\n",
       "        vertical-align: top;\n",
       "    }\n",
       "\n",
       "    .dataframe thead th {\n",
       "        text-align: right;\n",
       "    }\n",
       "</style>\n",
       "<table border=\"1\" class=\"dataframe\">\n",
       "  <thead>\n",
       "    <tr style=\"text-align: right;\">\n",
       "      <th></th>\n",
       "      <th>company</th>\n",
       "      <th>body-style</th>\n",
       "      <th>wheel-base</th>\n",
       "      <th>length</th>\n",
       "      <th>engine-type</th>\n",
       "      <th>num-of-cylinders</th>\n",
       "      <th>horsepower</th>\n",
       "      <th>average-mileage</th>\n",
       "      <th>price</th>\n",
       "    </tr>\n",
       "    <tr>\n",
       "      <th>index</th>\n",
       "      <th></th>\n",
       "      <th></th>\n",
       "      <th></th>\n",
       "      <th></th>\n",
       "      <th></th>\n",
       "      <th></th>\n",
       "      <th></th>\n",
       "      <th></th>\n",
       "      <th></th>\n",
       "    </tr>\n",
       "  </thead>\n",
       "  <tbody>\n",
       "    <tr>\n",
       "      <th>0</th>\n",
       "      <td>alfa-romero</td>\n",
       "      <td>convertible</td>\n",
       "      <td>88.6</td>\n",
       "      <td>168.8</td>\n",
       "      <td>dohc</td>\n",
       "      <td>four</td>\n",
       "      <td>111</td>\n",
       "      <td>21</td>\n",
       "      <td>13495.0</td>\n",
       "    </tr>\n",
       "    <tr>\n",
       "      <th>1</th>\n",
       "      <td>alfa-romero</td>\n",
       "      <td>convertible</td>\n",
       "      <td>88.6</td>\n",
       "      <td>168.8</td>\n",
       "      <td>dohc</td>\n",
       "      <td>four</td>\n",
       "      <td>111</td>\n",
       "      <td>21</td>\n",
       "      <td>16500.0</td>\n",
       "    </tr>\n",
       "    <tr>\n",
       "      <th>2</th>\n",
       "      <td>alfa-romero</td>\n",
       "      <td>hatchback</td>\n",
       "      <td>94.5</td>\n",
       "      <td>171.2</td>\n",
       "      <td>ohcv</td>\n",
       "      <td>six</td>\n",
       "      <td>154</td>\n",
       "      <td>19</td>\n",
       "      <td>16500.0</td>\n",
       "    </tr>\n",
       "    <tr>\n",
       "      <th>3</th>\n",
       "      <td>audi</td>\n",
       "      <td>sedan</td>\n",
       "      <td>99.8</td>\n",
       "      <td>176.6</td>\n",
       "      <td>ohc</td>\n",
       "      <td>four</td>\n",
       "      <td>102</td>\n",
       "      <td>24</td>\n",
       "      <td>13950.0</td>\n",
       "    </tr>\n",
       "    <tr>\n",
       "      <th>4</th>\n",
       "      <td>audi</td>\n",
       "      <td>sedan</td>\n",
       "      <td>99.4</td>\n",
       "      <td>176.6</td>\n",
       "      <td>ohc</td>\n",
       "      <td>five</td>\n",
       "      <td>115</td>\n",
       "      <td>18</td>\n",
       "      <td>17450.0</td>\n",
       "    </tr>\n",
       "    <tr>\n",
       "      <th>5</th>\n",
       "      <td>audi</td>\n",
       "      <td>sedan</td>\n",
       "      <td>99.8</td>\n",
       "      <td>177.3</td>\n",
       "      <td>ohc</td>\n",
       "      <td>five</td>\n",
       "      <td>110</td>\n",
       "      <td>19</td>\n",
       "      <td>15250.0</td>\n",
       "    </tr>\n",
       "    <tr>\n",
       "      <th>6</th>\n",
       "      <td>audi</td>\n",
       "      <td>wagon</td>\n",
       "      <td>105.8</td>\n",
       "      <td>192.7</td>\n",
       "      <td>ohc</td>\n",
       "      <td>five</td>\n",
       "      <td>110</td>\n",
       "      <td>19</td>\n",
       "      <td>18920.0</td>\n",
       "    </tr>\n",
       "  </tbody>\n",
       "</table>\n",
       "</div>"
      ],
      "text/plain": [
       "           company   body-style  wheel-base  length engine-type  \\\n",
       "index                                                             \n",
       "0      alfa-romero  convertible        88.6   168.8        dohc   \n",
       "1      alfa-romero  convertible        88.6   168.8        dohc   \n",
       "2      alfa-romero    hatchback        94.5   171.2        ohcv   \n",
       "3             audi        sedan        99.8   176.6         ohc   \n",
       "4             audi        sedan        99.4   176.6         ohc   \n",
       "5             audi        sedan        99.8   177.3         ohc   \n",
       "6             audi        wagon       105.8   192.7         ohc   \n",
       "\n",
       "      num-of-cylinders  horsepower  average-mileage    price  \n",
       "index                                                         \n",
       "0                 four         111               21  13495.0  \n",
       "1                 four         111               21  16500.0  \n",
       "2                  six         154               19  16500.0  \n",
       "3                 four         102               24  13950.0  \n",
       "4                 five         115               18  17450.0  \n",
       "5                 five         110               19  15250.0  \n",
       "6                 five         110               19  18920.0  "
      ]
     },
     "execution_count": 4,
     "metadata": {},
     "output_type": "execute_result"
    }
   ],
   "source": [
    "<FILL IN>"
   ]
  },
  {
   "cell_type": "code",
   "execution_count": 5,
   "metadata": {},
   "outputs": [
    {
     "data": {
      "text/plain": [
       "(61, 9)"
      ]
     },
     "execution_count": 5,
     "metadata": {},
     "output_type": "execute_result"
    }
   ],
   "source": [
    "<FILL IN>"
   ]
  },
  {
   "cell_type": "markdown",
   "metadata": {
    "id": "Ea49TgRjWoun"
   },
   "source": [
    "<div class=\"alert alert-info\"><b>  Exercise 2 </b>\n",
    "\n",
    "Display all columns names using ```.columns```. Now, retrieve the column name ```'wheel-base``` using its column's index. Finally, traverse all columns' name with a for loop.\n",
    "\n",
    "</div>"
   ]
  },
  {
   "cell_type": "code",
   "execution_count": 6,
   "metadata": {
    "ExecuteTime": {
     "end_time": "2019-12-13T09:14:33.307451Z",
     "start_time": "2019-12-13T09:14:33.291836Z"
    },
    "colab": {
     "base_uri": "https://localhost:8080/",
     "height": 34
    },
    "id": "Qb3oxdAvUuGw",
    "outputId": "a0380185-0e1d-4fcb-decc-23ed8294712b"
   },
   "outputs": [
    {
     "data": {
      "text/plain": [
       "Index(['company', 'body-style', 'wheel-base', 'length', 'engine-type',\n",
       "       'num-of-cylinders', 'horsepower', 'average-mileage', 'price'],\n",
       "      dtype='object')"
      ]
     },
     "execution_count": 6,
     "metadata": {},
     "output_type": "execute_result"
    }
   ],
   "source": [
    "<FILL IN>"
   ]
  },
  {
   "cell_type": "code",
   "execution_count": 7,
   "metadata": {},
   "outputs": [
    {
     "data": {
      "text/plain": [
       "'wheel-base'"
      ]
     },
     "execution_count": 7,
     "metadata": {},
     "output_type": "execute_result"
    }
   ],
   "source": [
    "<FILL IN>"
   ]
  },
  {
   "cell_type": "markdown",
   "metadata": {
    "id": "8YA-6zmZKL-8"
   },
   "source": [
    "<div class=\"alert alert-info\"><b>  Exercise 3 </b>\n",
    "\n",
    "Slicing in Pandas is very flexible, remember you can use ```loc[]``` or ```iloc[]``` to slice columns. Use both options to select the ```body-style``` column and then ```['horsepower','price']```. \n",
    "\n",
    "</div>\n"
   ]
  },
  {
   "cell_type": "code",
   "execution_count": 8,
   "metadata": {
    "colab": {
     "base_uri": "https://localhost:8080/"
    },
    "id": "umTZcjcVKovf",
    "outputId": "94b5e846-84a7-449a-de36-1537e9dec9b7"
   },
   "outputs": [
    {
     "data": {
      "text/html": [
       "<div>\n",
       "<style scoped>\n",
       "    .dataframe tbody tr th:only-of-type {\n",
       "        vertical-align: middle;\n",
       "    }\n",
       "\n",
       "    .dataframe tbody tr th {\n",
       "        vertical-align: top;\n",
       "    }\n",
       "\n",
       "    .dataframe thead th {\n",
       "        text-align: right;\n",
       "    }\n",
       "</style>\n",
       "<table border=\"1\" class=\"dataframe\">\n",
       "  <thead>\n",
       "    <tr style=\"text-align: right;\">\n",
       "      <th></th>\n",
       "      <th>company</th>\n",
       "      <th>body-style</th>\n",
       "      <th>wheel-base</th>\n",
       "      <th>length</th>\n",
       "      <th>engine-type</th>\n",
       "      <th>num-of-cylinders</th>\n",
       "      <th>horsepower</th>\n",
       "      <th>average-mileage</th>\n",
       "      <th>price</th>\n",
       "    </tr>\n",
       "    <tr>\n",
       "      <th>index</th>\n",
       "      <th></th>\n",
       "      <th></th>\n",
       "      <th></th>\n",
       "      <th></th>\n",
       "      <th></th>\n",
       "      <th></th>\n",
       "      <th></th>\n",
       "      <th></th>\n",
       "      <th></th>\n",
       "    </tr>\n",
       "  </thead>\n",
       "  <tbody>\n",
       "    <tr>\n",
       "      <th>0</th>\n",
       "      <td>alfa-romero</td>\n",
       "      <td>convertible</td>\n",
       "      <td>88.6</td>\n",
       "      <td>168.8</td>\n",
       "      <td>dohc</td>\n",
       "      <td>four</td>\n",
       "      <td>111</td>\n",
       "      <td>21</td>\n",
       "      <td>13495.0</td>\n",
       "    </tr>\n",
       "    <tr>\n",
       "      <th>1</th>\n",
       "      <td>alfa-romero</td>\n",
       "      <td>convertible</td>\n",
       "      <td>88.6</td>\n",
       "      <td>168.8</td>\n",
       "      <td>dohc</td>\n",
       "      <td>four</td>\n",
       "      <td>111</td>\n",
       "      <td>21</td>\n",
       "      <td>16500.0</td>\n",
       "    </tr>\n",
       "  </tbody>\n",
       "</table>\n",
       "</div>"
      ],
      "text/plain": [
       "           company   body-style  wheel-base  length engine-type  \\\n",
       "index                                                             \n",
       "0      alfa-romero  convertible        88.6   168.8        dohc   \n",
       "1      alfa-romero  convertible        88.6   168.8        dohc   \n",
       "\n",
       "      num-of-cylinders  horsepower  average-mileage    price  \n",
       "index                                                         \n",
       "0                 four         111               21  13495.0  \n",
       "1                 four         111               21  16500.0  "
      ]
     },
     "execution_count": 8,
     "metadata": {},
     "output_type": "execute_result"
    }
   ],
   "source": [
    "<FILL IN>"
   ]
  },
  {
   "cell_type": "markdown",
   "metadata": {
    "id": "Iu8x5JPlbNtX"
   },
   "source": [
    "<div class=\"alert alert-info\"><b>  Exercise 4 </b>\n",
    "\n",
    "The loc and iloc statements can select more than one column. Use both to select the ```['horsepower','price']``` columns at the same time. \n",
    "\n",
    "</div>"
   ]
  },
  {
   "cell_type": "code",
   "execution_count": 9,
   "metadata": {
    "colab": {
     "base_uri": "https://localhost:8080/",
     "height": 416
    },
    "id": "WqdGO6e3bNDV",
    "outputId": "66324484-2353-4e78-c80a-202f6bd48f3a"
   },
   "outputs": [
    {
     "data": {
      "text/html": [
       "<div>\n",
       "<style scoped>\n",
       "    .dataframe tbody tr th:only-of-type {\n",
       "        vertical-align: middle;\n",
       "    }\n",
       "\n",
       "    .dataframe tbody tr th {\n",
       "        vertical-align: top;\n",
       "    }\n",
       "\n",
       "    .dataframe thead th {\n",
       "        text-align: right;\n",
       "    }\n",
       "</style>\n",
       "<table border=\"1\" class=\"dataframe\">\n",
       "  <thead>\n",
       "    <tr style=\"text-align: right;\">\n",
       "      <th></th>\n",
       "      <th>horsepower</th>\n",
       "      <th>price</th>\n",
       "    </tr>\n",
       "    <tr>\n",
       "      <th>index</th>\n",
       "      <th></th>\n",
       "      <th></th>\n",
       "    </tr>\n",
       "  </thead>\n",
       "  <tbody>\n",
       "    <tr>\n",
       "      <th>0</th>\n",
       "      <td>111</td>\n",
       "      <td>13495.0</td>\n",
       "    </tr>\n",
       "    <tr>\n",
       "      <th>1</th>\n",
       "      <td>111</td>\n",
       "      <td>16500.0</td>\n",
       "    </tr>\n",
       "    <tr>\n",
       "      <th>2</th>\n",
       "      <td>154</td>\n",
       "      <td>16500.0</td>\n",
       "    </tr>\n",
       "    <tr>\n",
       "      <th>3</th>\n",
       "      <td>102</td>\n",
       "      <td>13950.0</td>\n",
       "    </tr>\n",
       "    <tr>\n",
       "      <th>4</th>\n",
       "      <td>115</td>\n",
       "      <td>17450.0</td>\n",
       "    </tr>\n",
       "    <tr>\n",
       "      <th>...</th>\n",
       "      <td>...</td>\n",
       "      <td>...</td>\n",
       "    </tr>\n",
       "    <tr>\n",
       "      <th>81</th>\n",
       "      <td>85</td>\n",
       "      <td>7975.0</td>\n",
       "    </tr>\n",
       "    <tr>\n",
       "      <th>82</th>\n",
       "      <td>52</td>\n",
       "      <td>7995.0</td>\n",
       "    </tr>\n",
       "    <tr>\n",
       "      <th>86</th>\n",
       "      <td>100</td>\n",
       "      <td>9995.0</td>\n",
       "    </tr>\n",
       "    <tr>\n",
       "      <th>87</th>\n",
       "      <td>114</td>\n",
       "      <td>12940.0</td>\n",
       "    </tr>\n",
       "    <tr>\n",
       "      <th>88</th>\n",
       "      <td>114</td>\n",
       "      <td>13415.0</td>\n",
       "    </tr>\n",
       "  </tbody>\n",
       "</table>\n",
       "<p>61 rows × 2 columns</p>\n",
       "</div>"
      ],
      "text/plain": [
       "       horsepower    price\n",
       "index                     \n",
       "0             111  13495.0\n",
       "1             111  16500.0\n",
       "2             154  16500.0\n",
       "3             102  13950.0\n",
       "4             115  17450.0\n",
       "...           ...      ...\n",
       "81             85   7975.0\n",
       "82             52   7995.0\n",
       "86            100   9995.0\n",
       "87            114  12940.0\n",
       "88            114  13415.0\n",
       "\n",
       "[61 rows x 2 columns]"
      ]
     },
     "execution_count": 9,
     "metadata": {},
     "output_type": "execute_result"
    }
   ],
   "source": [
    "<FILL IN>"
   ]
  },
  {
   "cell_type": "markdown",
   "metadata": {
    "id": "waUgO_8KbovR"
   },
   "source": [
    "<div class=\"alert alert-info\"><b>  Exercise 5 </b>\n",
    "\n",
    "Now, let's also slice the DataFrame ```df``` using loc and iloc. To do so, select rows 5 to 10 and columns ```num-of-cylinders``` and ```horsepower```.\n",
    "\n",
    "</div>"
   ]
  },
  {
   "cell_type": "code",
   "execution_count": 10,
   "metadata": {
    "colab": {
     "base_uri": "https://localhost:8080/",
     "height": 233
    },
    "id": "YnA_RFSac-l7",
    "outputId": "50c244f8-e3b2-4099-e3d6-cc79be474c5e"
   },
   "outputs": [
    {
     "data": {
      "text/html": [
       "<div>\n",
       "<style scoped>\n",
       "    .dataframe tbody tr th:only-of-type {\n",
       "        vertical-align: middle;\n",
       "    }\n",
       "\n",
       "    .dataframe tbody tr th {\n",
       "        vertical-align: top;\n",
       "    }\n",
       "\n",
       "    .dataframe thead th {\n",
       "        text-align: right;\n",
       "    }\n",
       "</style>\n",
       "<table border=\"1\" class=\"dataframe\">\n",
       "  <thead>\n",
       "    <tr style=\"text-align: right;\">\n",
       "      <th></th>\n",
       "      <th>horsepower</th>\n",
       "      <th>average-mileage</th>\n",
       "    </tr>\n",
       "    <tr>\n",
       "      <th>index</th>\n",
       "      <th></th>\n",
       "      <th></th>\n",
       "    </tr>\n",
       "  </thead>\n",
       "  <tbody>\n",
       "    <tr>\n",
       "      <th>4</th>\n",
       "      <td>115</td>\n",
       "      <td>18</td>\n",
       "    </tr>\n",
       "    <tr>\n",
       "      <th>5</th>\n",
       "      <td>110</td>\n",
       "      <td>19</td>\n",
       "    </tr>\n",
       "    <tr>\n",
       "      <th>6</th>\n",
       "      <td>110</td>\n",
       "      <td>19</td>\n",
       "    </tr>\n",
       "    <tr>\n",
       "      <th>9</th>\n",
       "      <td>101</td>\n",
       "      <td>23</td>\n",
       "    </tr>\n",
       "    <tr>\n",
       "      <th>10</th>\n",
       "      <td>101</td>\n",
       "      <td>23</td>\n",
       "    </tr>\n",
       "    <tr>\n",
       "      <th>11</th>\n",
       "      <td>121</td>\n",
       "      <td>21</td>\n",
       "    </tr>\n",
       "  </tbody>\n",
       "</table>\n",
       "</div>"
      ],
      "text/plain": [
       "       horsepower  average-mileage\n",
       "index                             \n",
       "4             115               18\n",
       "5             110               19\n",
       "6             110               19\n",
       "9             101               23\n",
       "10            101               23\n",
       "11            121               21"
      ]
     },
     "execution_count": 10,
     "metadata": {},
     "output_type": "execute_result"
    }
   ],
   "source": [
    "<FILL IN>"
   ]
  },
  {
   "cell_type": "markdown",
   "metadata": {
    "id": "yKdzHaKHIRLX"
   },
   "source": [
    "<div class=\"alert alert-info\"><b>  Exercise 6 </b>\n",
    "\n",
    "As explained in the Pandas videos, a single column DataFrame is considered a Series. Slice the column ```'body-style'``` and check its type.\n",
    "\n",
    "</div>"
   ]
  },
  {
   "cell_type": "code",
   "execution_count": 11,
   "metadata": {
    "id": "BKiLR7g6XH23"
   },
   "outputs": [
    {
     "data": {
      "text/plain": [
       "pandas.core.series.Series"
      ]
     },
     "execution_count": 11,
     "metadata": {},
     "output_type": "execute_result"
    }
   ],
   "source": [
    "<FILL IN>"
   ]
  },
  {
   "cell_type": "markdown",
   "metadata": {
    "id": "Xw4URNiIUuGx"
   },
   "source": [
    "<div class=\"alert alert-info\"><b>  Exercise 7 </b>\n",
    "\n",
    "There is a Pandas function named `.value_counts()` that when applied to a column returns a count of the entries for each of the unique values of that column. Use this function to find the company with more cars, as well as to study the different types of engines.\n",
    "\n",
    "</div>"
   ]
  },
  {
   "cell_type": "code",
   "execution_count": 12,
   "metadata": {
    "ExecuteTime": {
     "end_time": "2019-12-13T09:15:00.851882Z",
     "start_time": "2019-12-13T09:15:00.805582Z"
    },
    "colab": {
     "base_uri": "https://localhost:8080/"
    },
    "id": "E3UnaeQ7UuGx",
    "outputId": "725974db-8790-4e9a-b660-268b7e5f01d7"
   },
   "outputs": [
    {
     "data": {
      "text/plain": [
       "company\n",
       "toyota           7\n",
       "bmw              6\n",
       "mazda            5\n",
       "nissan           5\n",
       "audi             4\n",
       "mercedes-benz    4\n",
       "mitsubishi       4\n",
       "volkswagen       4\n",
       "alfa-romero      3\n",
       "chevrolet        3\n",
       "honda            3\n",
       "isuzu            3\n",
       "jaguar           3\n",
       "porsche          3\n",
       "dodge            2\n",
       "volvo            2\n",
       "Name: count, dtype: int64"
      ]
     },
     "execution_count": 12,
     "metadata": {},
     "output_type": "execute_result"
    }
   ],
   "source": [
    "<FILL IN>"
   ]
  },
  {
   "cell_type": "code",
   "execution_count": 13,
   "metadata": {
    "ExecuteTime": {
     "end_time": "2019-12-13T09:15:19.816590Z",
     "start_time": "2019-12-13T09:15:19.797038Z"
    },
    "colab": {
     "base_uri": "https://localhost:8080/"
    },
    "id": "PtLMrxkrUuGy",
    "outputId": "b6915871-d17d-461d-a897-4859c2413a67"
   },
   "outputs": [
    {
     "data": {
      "text/plain": [
       "engine-type\n",
       "ohc      46\n",
       "dohc      5\n",
       "ohcv      5\n",
       "ohcf      2\n",
       "l         1\n",
       "rotor     1\n",
       "dohcv     1\n",
       "Name: count, dtype: int64"
      ]
     },
     "execution_count": 13,
     "metadata": {},
     "output_type": "execute_result"
    }
   ],
   "source": [
    "<FILL IN>"
   ]
  },
  {
   "cell_type": "markdown",
   "metadata": {
    "id": "cou7C6wLUuGz"
   },
   "source": [
    "<div class=\"alert alert-info\"><b>  Exercise 8 </b>\n",
    "\n",
    "Find the most expensive auto's company name and price.\n",
    "\n",
    "</div>"
   ]
  },
  {
   "cell_type": "code",
   "execution_count": 14,
   "metadata": {
    "ExecuteTime": {
     "end_time": "2019-12-13T09:16:13.084908Z",
     "start_time": "2019-12-13T09:16:12.985712Z"
    },
    "colab": {
     "base_uri": "https://localhost:8080/",
     "height": 110
    },
    "id": "w2IQJVEHUuGz",
    "outputId": "bc96b225-c350-4b2f-b1e9-20795e759e61"
   },
   "outputs": [
    {
     "data": {
      "text/html": [
       "<div>\n",
       "<style scoped>\n",
       "    .dataframe tbody tr th:only-of-type {\n",
       "        vertical-align: middle;\n",
       "    }\n",
       "\n",
       "    .dataframe tbody tr th {\n",
       "        vertical-align: top;\n",
       "    }\n",
       "\n",
       "    .dataframe thead th {\n",
       "        text-align: right;\n",
       "    }\n",
       "</style>\n",
       "<table border=\"1\" class=\"dataframe\">\n",
       "  <thead>\n",
       "    <tr style=\"text-align: right;\">\n",
       "      <th></th>\n",
       "      <th>company</th>\n",
       "      <th>price</th>\n",
       "    </tr>\n",
       "    <tr>\n",
       "      <th>index</th>\n",
       "      <th></th>\n",
       "      <th></th>\n",
       "    </tr>\n",
       "  </thead>\n",
       "  <tbody>\n",
       "    <tr>\n",
       "      <th>47</th>\n",
       "      <td>mercedes-benz</td>\n",
       "      <td>45400.0</td>\n",
       "    </tr>\n",
       "  </tbody>\n",
       "</table>\n",
       "</div>"
      ],
      "text/plain": [
       "             company    price\n",
       "index                        \n",
       "47     mercedes-benz  45400.0"
      ]
     },
     "execution_count": 14,
     "metadata": {},
     "output_type": "execute_result"
    }
   ],
   "source": [
    "<FILL IN>"
   ]
  },
  {
   "cell_type": "markdown",
   "metadata": {
    "id": "ZHpEeAuRUuG0"
   },
   "source": [
    "<div class=\"alert alert-info\"><b>  Exercise 9 </b>\n",
    "\n",
    "Select only the cars made by Toyota.\n",
    "\n",
    "</div>"
   ]
  },
  {
   "cell_type": "code",
   "execution_count": 15,
   "metadata": {
    "ExecuteTime": {
     "end_time": "2019-12-13T09:16:31.703707Z",
     "start_time": "2019-12-13T09:16:31.655133Z"
    },
    "colab": {
     "base_uri": "https://localhost:8080/",
     "height": 295
    },
    "id": "LcFGpcVzUuG0",
    "outputId": "a5a2716f-8507-4f9c-b732-7b4f23f94e74"
   },
   "outputs": [
    {
     "data": {
      "text/html": [
       "<div>\n",
       "<style scoped>\n",
       "    .dataframe tbody tr th:only-of-type {\n",
       "        vertical-align: middle;\n",
       "    }\n",
       "\n",
       "    .dataframe tbody tr th {\n",
       "        vertical-align: top;\n",
       "    }\n",
       "\n",
       "    .dataframe thead th {\n",
       "        text-align: right;\n",
       "    }\n",
       "</style>\n",
       "<table border=\"1\" class=\"dataframe\">\n",
       "  <thead>\n",
       "    <tr style=\"text-align: right;\">\n",
       "      <th></th>\n",
       "      <th>company</th>\n",
       "      <th>body-style</th>\n",
       "      <th>wheel-base</th>\n",
       "      <th>length</th>\n",
       "      <th>engine-type</th>\n",
       "      <th>num-of-cylinders</th>\n",
       "      <th>horsepower</th>\n",
       "      <th>average-mileage</th>\n",
       "      <th>price</th>\n",
       "    </tr>\n",
       "    <tr>\n",
       "      <th>index</th>\n",
       "      <th></th>\n",
       "      <th></th>\n",
       "      <th></th>\n",
       "      <th></th>\n",
       "      <th></th>\n",
       "      <th></th>\n",
       "      <th></th>\n",
       "      <th></th>\n",
       "      <th></th>\n",
       "    </tr>\n",
       "  </thead>\n",
       "  <tbody>\n",
       "    <tr>\n",
       "      <th>66</th>\n",
       "      <td>toyota</td>\n",
       "      <td>hatchback</td>\n",
       "      <td>95.7</td>\n",
       "      <td>158.7</td>\n",
       "      <td>ohc</td>\n",
       "      <td>four</td>\n",
       "      <td>62</td>\n",
       "      <td>35</td>\n",
       "      <td>5348.0</td>\n",
       "    </tr>\n",
       "    <tr>\n",
       "      <th>67</th>\n",
       "      <td>toyota</td>\n",
       "      <td>hatchback</td>\n",
       "      <td>95.7</td>\n",
       "      <td>158.7</td>\n",
       "      <td>ohc</td>\n",
       "      <td>four</td>\n",
       "      <td>62</td>\n",
       "      <td>31</td>\n",
       "      <td>6338.0</td>\n",
       "    </tr>\n",
       "    <tr>\n",
       "      <th>68</th>\n",
       "      <td>toyota</td>\n",
       "      <td>hatchback</td>\n",
       "      <td>95.7</td>\n",
       "      <td>158.7</td>\n",
       "      <td>ohc</td>\n",
       "      <td>four</td>\n",
       "      <td>62</td>\n",
       "      <td>31</td>\n",
       "      <td>6488.0</td>\n",
       "    </tr>\n",
       "    <tr>\n",
       "      <th>69</th>\n",
       "      <td>toyota</td>\n",
       "      <td>wagon</td>\n",
       "      <td>95.7</td>\n",
       "      <td>169.7</td>\n",
       "      <td>ohc</td>\n",
       "      <td>four</td>\n",
       "      <td>62</td>\n",
       "      <td>31</td>\n",
       "      <td>6918.0</td>\n",
       "    </tr>\n",
       "    <tr>\n",
       "      <th>70</th>\n",
       "      <td>toyota</td>\n",
       "      <td>wagon</td>\n",
       "      <td>95.7</td>\n",
       "      <td>169.7</td>\n",
       "      <td>ohc</td>\n",
       "      <td>four</td>\n",
       "      <td>62</td>\n",
       "      <td>27</td>\n",
       "      <td>7898.0</td>\n",
       "    </tr>\n",
       "    <tr>\n",
       "      <th>71</th>\n",
       "      <td>toyota</td>\n",
       "      <td>wagon</td>\n",
       "      <td>95.7</td>\n",
       "      <td>169.7</td>\n",
       "      <td>ohc</td>\n",
       "      <td>four</td>\n",
       "      <td>62</td>\n",
       "      <td>27</td>\n",
       "      <td>8778.0</td>\n",
       "    </tr>\n",
       "    <tr>\n",
       "      <th>79</th>\n",
       "      <td>toyota</td>\n",
       "      <td>wagon</td>\n",
       "      <td>104.5</td>\n",
       "      <td>187.8</td>\n",
       "      <td>dohc</td>\n",
       "      <td>six</td>\n",
       "      <td>156</td>\n",
       "      <td>19</td>\n",
       "      <td>15750.0</td>\n",
       "    </tr>\n",
       "  </tbody>\n",
       "</table>\n",
       "</div>"
      ],
      "text/plain": [
       "      company body-style  wheel-base  length engine-type num-of-cylinders  \\\n",
       "index                                                                       \n",
       "66     toyota  hatchback        95.7   158.7         ohc             four   \n",
       "67     toyota  hatchback        95.7   158.7         ohc             four   \n",
       "68     toyota  hatchback        95.7   158.7         ohc             four   \n",
       "69     toyota      wagon        95.7   169.7         ohc             four   \n",
       "70     toyota      wagon        95.7   169.7         ohc             four   \n",
       "71     toyota      wagon        95.7   169.7         ohc             four   \n",
       "79     toyota      wagon       104.5   187.8        dohc              six   \n",
       "\n",
       "       horsepower  average-mileage    price  \n",
       "index                                        \n",
       "66             62               35   5348.0  \n",
       "67             62               31   6338.0  \n",
       "68             62               31   6488.0  \n",
       "69             62               31   6918.0  \n",
       "70             62               27   7898.0  \n",
       "71             62               27   8778.0  \n",
       "79            156               19  15750.0  "
      ]
     },
     "execution_count": 15,
     "metadata": {},
     "output_type": "execute_result"
    }
   ],
   "source": [
    "<FILL IN>"
   ]
  },
  {
   "cell_type": "markdown",
   "metadata": {
    "id": "hDpBHXIuUuG0"
   },
   "source": [
    "<div class=\"alert alert-info\"><b>  Exercise 10 </b>\n",
    "\n",
    "Find the minimum and maximum ```horsepower``` for the cars made by ```Toyota```.\n",
    "\n",
    "</div>"
   ]
  },
  {
   "cell_type": "code",
   "execution_count": 17,
   "metadata": {
    "ExecuteTime": {
     "end_time": "2019-12-13T09:17:16.414664Z",
     "start_time": "2019-12-13T09:17:16.381618Z"
    },
    "colab": {
     "base_uri": "https://localhost:8080/"
    },
    "id": "TPuWpLiGUuG1",
    "outputId": "641f3eeb-ff7f-4a72-81ac-1b421ff2e15a"
   },
   "outputs": [
    {
     "data": {
      "text/plain": [
       "62"
      ]
     },
     "execution_count": 17,
     "metadata": {},
     "output_type": "execute_result"
    }
   ],
   "source": [
    "<FILL IN>"
   ]
  },
  {
   "cell_type": "markdown",
   "metadata": {},
   "source": [
    "<div class=\"alert alert-info\"><b>  Exercise 11 </b>\n",
    "\n",
    "Create a new column called ```avg_price_per_cv``` with the average ```price``` per ```horsepower``` for each car.\n",
    "\n",
    "</div>"
   ]
  },
  {
   "cell_type": "code",
   "execution_count": 19,
   "metadata": {},
   "outputs": [
    {
     "data": {
      "text/html": [
       "<div>\n",
       "<style scoped>\n",
       "    .dataframe tbody tr th:only-of-type {\n",
       "        vertical-align: middle;\n",
       "    }\n",
       "\n",
       "    .dataframe tbody tr th {\n",
       "        vertical-align: top;\n",
       "    }\n",
       "\n",
       "    .dataframe thead th {\n",
       "        text-align: right;\n",
       "    }\n",
       "</style>\n",
       "<table border=\"1\" class=\"dataframe\">\n",
       "  <thead>\n",
       "    <tr style=\"text-align: right;\">\n",
       "      <th></th>\n",
       "      <th>company</th>\n",
       "      <th>body-style</th>\n",
       "      <th>wheel-base</th>\n",
       "      <th>length</th>\n",
       "      <th>engine-type</th>\n",
       "      <th>num-of-cylinders</th>\n",
       "      <th>horsepower</th>\n",
       "      <th>average-mileage</th>\n",
       "      <th>price</th>\n",
       "      <th>avg_price_per_cv</th>\n",
       "    </tr>\n",
       "    <tr>\n",
       "      <th>index</th>\n",
       "      <th></th>\n",
       "      <th></th>\n",
       "      <th></th>\n",
       "      <th></th>\n",
       "      <th></th>\n",
       "      <th></th>\n",
       "      <th></th>\n",
       "      <th></th>\n",
       "      <th></th>\n",
       "      <th></th>\n",
       "    </tr>\n",
       "  </thead>\n",
       "  <tbody>\n",
       "    <tr>\n",
       "      <th>0</th>\n",
       "      <td>alfa-romero</td>\n",
       "      <td>convertible</td>\n",
       "      <td>88.6</td>\n",
       "      <td>168.8</td>\n",
       "      <td>dohc</td>\n",
       "      <td>four</td>\n",
       "      <td>111</td>\n",
       "      <td>21</td>\n",
       "      <td>13495.0</td>\n",
       "      <td>121.576577</td>\n",
       "    </tr>\n",
       "    <tr>\n",
       "      <th>1</th>\n",
       "      <td>alfa-romero</td>\n",
       "      <td>convertible</td>\n",
       "      <td>88.6</td>\n",
       "      <td>168.8</td>\n",
       "      <td>dohc</td>\n",
       "      <td>four</td>\n",
       "      <td>111</td>\n",
       "      <td>21</td>\n",
       "      <td>16500.0</td>\n",
       "      <td>148.648649</td>\n",
       "    </tr>\n",
       "    <tr>\n",
       "      <th>2</th>\n",
       "      <td>alfa-romero</td>\n",
       "      <td>hatchback</td>\n",
       "      <td>94.5</td>\n",
       "      <td>171.2</td>\n",
       "      <td>ohcv</td>\n",
       "      <td>six</td>\n",
       "      <td>154</td>\n",
       "      <td>19</td>\n",
       "      <td>16500.0</td>\n",
       "      <td>107.142857</td>\n",
       "    </tr>\n",
       "    <tr>\n",
       "      <th>3</th>\n",
       "      <td>audi</td>\n",
       "      <td>sedan</td>\n",
       "      <td>99.8</td>\n",
       "      <td>176.6</td>\n",
       "      <td>ohc</td>\n",
       "      <td>four</td>\n",
       "      <td>102</td>\n",
       "      <td>24</td>\n",
       "      <td>13950.0</td>\n",
       "      <td>136.764706</td>\n",
       "    </tr>\n",
       "    <tr>\n",
       "      <th>4</th>\n",
       "      <td>audi</td>\n",
       "      <td>sedan</td>\n",
       "      <td>99.4</td>\n",
       "      <td>176.6</td>\n",
       "      <td>ohc</td>\n",
       "      <td>five</td>\n",
       "      <td>115</td>\n",
       "      <td>18</td>\n",
       "      <td>17450.0</td>\n",
       "      <td>151.739130</td>\n",
       "    </tr>\n",
       "    <tr>\n",
       "      <th>...</th>\n",
       "      <td>...</td>\n",
       "      <td>...</td>\n",
       "      <td>...</td>\n",
       "      <td>...</td>\n",
       "      <td>...</td>\n",
       "      <td>...</td>\n",
       "      <td>...</td>\n",
       "      <td>...</td>\n",
       "      <td>...</td>\n",
       "      <td>...</td>\n",
       "    </tr>\n",
       "    <tr>\n",
       "      <th>81</th>\n",
       "      <td>volkswagen</td>\n",
       "      <td>sedan</td>\n",
       "      <td>97.3</td>\n",
       "      <td>171.7</td>\n",
       "      <td>ohc</td>\n",
       "      <td>four</td>\n",
       "      <td>85</td>\n",
       "      <td>27</td>\n",
       "      <td>7975.0</td>\n",
       "      <td>93.823529</td>\n",
       "    </tr>\n",
       "    <tr>\n",
       "      <th>82</th>\n",
       "      <td>volkswagen</td>\n",
       "      <td>sedan</td>\n",
       "      <td>97.3</td>\n",
       "      <td>171.7</td>\n",
       "      <td>ohc</td>\n",
       "      <td>four</td>\n",
       "      <td>52</td>\n",
       "      <td>37</td>\n",
       "      <td>7995.0</td>\n",
       "      <td>153.750000</td>\n",
       "    </tr>\n",
       "    <tr>\n",
       "      <th>86</th>\n",
       "      <td>volkswagen</td>\n",
       "      <td>sedan</td>\n",
       "      <td>97.3</td>\n",
       "      <td>171.7</td>\n",
       "      <td>ohc</td>\n",
       "      <td>four</td>\n",
       "      <td>100</td>\n",
       "      <td>26</td>\n",
       "      <td>9995.0</td>\n",
       "      <td>99.950000</td>\n",
       "    </tr>\n",
       "    <tr>\n",
       "      <th>87</th>\n",
       "      <td>volvo</td>\n",
       "      <td>sedan</td>\n",
       "      <td>104.3</td>\n",
       "      <td>188.8</td>\n",
       "      <td>ohc</td>\n",
       "      <td>four</td>\n",
       "      <td>114</td>\n",
       "      <td>23</td>\n",
       "      <td>12940.0</td>\n",
       "      <td>113.508772</td>\n",
       "    </tr>\n",
       "    <tr>\n",
       "      <th>88</th>\n",
       "      <td>volvo</td>\n",
       "      <td>wagon</td>\n",
       "      <td>104.3</td>\n",
       "      <td>188.8</td>\n",
       "      <td>ohc</td>\n",
       "      <td>four</td>\n",
       "      <td>114</td>\n",
       "      <td>23</td>\n",
       "      <td>13415.0</td>\n",
       "      <td>117.675439</td>\n",
       "    </tr>\n",
       "  </tbody>\n",
       "</table>\n",
       "<p>61 rows × 10 columns</p>\n",
       "</div>"
      ],
      "text/plain": [
       "           company   body-style  wheel-base  length engine-type  \\\n",
       "index                                                             \n",
       "0      alfa-romero  convertible        88.6   168.8        dohc   \n",
       "1      alfa-romero  convertible        88.6   168.8        dohc   \n",
       "2      alfa-romero    hatchback        94.5   171.2        ohcv   \n",
       "3             audi        sedan        99.8   176.6         ohc   \n",
       "4             audi        sedan        99.4   176.6         ohc   \n",
       "...            ...          ...         ...     ...         ...   \n",
       "81      volkswagen        sedan        97.3   171.7         ohc   \n",
       "82      volkswagen        sedan        97.3   171.7         ohc   \n",
       "86      volkswagen        sedan        97.3   171.7         ohc   \n",
       "87           volvo        sedan       104.3   188.8         ohc   \n",
       "88           volvo        wagon       104.3   188.8         ohc   \n",
       "\n",
       "      num-of-cylinders  horsepower  average-mileage    price  avg_price_per_cv  \n",
       "index                                                                           \n",
       "0                 four         111               21  13495.0        121.576577  \n",
       "1                 four         111               21  16500.0        148.648649  \n",
       "2                  six         154               19  16500.0        107.142857  \n",
       "3                 four         102               24  13950.0        136.764706  \n",
       "4                 five         115               18  17450.0        151.739130  \n",
       "...                ...         ...              ...      ...               ...  \n",
       "81                four          85               27   7975.0         93.823529  \n",
       "82                four          52               37   7995.0        153.750000  \n",
       "86                four         100               26   9995.0         99.950000  \n",
       "87                four         114               23  12940.0        113.508772  \n",
       "88                four         114               23  13415.0        117.675439  \n",
       "\n",
       "[61 rows x 10 columns]"
      ]
     },
     "execution_count": 19,
     "metadata": {},
     "output_type": "execute_result"
    }
   ],
   "source": [
    "<FILL IN>"
   ]
  },
  {
   "cell_type": "markdown",
   "metadata": {},
   "source": [
    "<div class=\"alert alert-info\"><b>  Exercise 12 </b>\n",
    "\n",
    "Drop the column ```average-mileage``` using the function ```.drop()``` and observe if the column has been dropped. Then apply again the function drop but using the parameter ```inplace=True```. Can you observe any difference?\n",
    "\n",
    "</div>"
   ]
  },
  {
   "cell_type": "code",
   "execution_count": 20,
   "metadata": {},
   "outputs": [
    {
     "data": {
      "text/html": [
       "<div>\n",
       "<style scoped>\n",
       "    .dataframe tbody tr th:only-of-type {\n",
       "        vertical-align: middle;\n",
       "    }\n",
       "\n",
       "    .dataframe tbody tr th {\n",
       "        vertical-align: top;\n",
       "    }\n",
       "\n",
       "    .dataframe thead th {\n",
       "        text-align: right;\n",
       "    }\n",
       "</style>\n",
       "<table border=\"1\" class=\"dataframe\">\n",
       "  <thead>\n",
       "    <tr style=\"text-align: right;\">\n",
       "      <th></th>\n",
       "      <th>company</th>\n",
       "      <th>body-style</th>\n",
       "      <th>wheel-base</th>\n",
       "      <th>length</th>\n",
       "      <th>engine-type</th>\n",
       "      <th>num-of-cylinders</th>\n",
       "      <th>horsepower</th>\n",
       "      <th>price</th>\n",
       "      <th>avg_price_per_cv</th>\n",
       "    </tr>\n",
       "    <tr>\n",
       "      <th>index</th>\n",
       "      <th></th>\n",
       "      <th></th>\n",
       "      <th></th>\n",
       "      <th></th>\n",
       "      <th></th>\n",
       "      <th></th>\n",
       "      <th></th>\n",
       "      <th></th>\n",
       "      <th></th>\n",
       "    </tr>\n",
       "  </thead>\n",
       "  <tbody>\n",
       "    <tr>\n",
       "      <th>0</th>\n",
       "      <td>alfa-romero</td>\n",
       "      <td>convertible</td>\n",
       "      <td>88.6</td>\n",
       "      <td>168.8</td>\n",
       "      <td>dohc</td>\n",
       "      <td>four</td>\n",
       "      <td>111</td>\n",
       "      <td>13495.0</td>\n",
       "      <td>121.576577</td>\n",
       "    </tr>\n",
       "    <tr>\n",
       "      <th>1</th>\n",
       "      <td>alfa-romero</td>\n",
       "      <td>convertible</td>\n",
       "      <td>88.6</td>\n",
       "      <td>168.8</td>\n",
       "      <td>dohc</td>\n",
       "      <td>four</td>\n",
       "      <td>111</td>\n",
       "      <td>16500.0</td>\n",
       "      <td>148.648649</td>\n",
       "    </tr>\n",
       "    <tr>\n",
       "      <th>2</th>\n",
       "      <td>alfa-romero</td>\n",
       "      <td>hatchback</td>\n",
       "      <td>94.5</td>\n",
       "      <td>171.2</td>\n",
       "      <td>ohcv</td>\n",
       "      <td>six</td>\n",
       "      <td>154</td>\n",
       "      <td>16500.0</td>\n",
       "      <td>107.142857</td>\n",
       "    </tr>\n",
       "    <tr>\n",
       "      <th>3</th>\n",
       "      <td>audi</td>\n",
       "      <td>sedan</td>\n",
       "      <td>99.8</td>\n",
       "      <td>176.6</td>\n",
       "      <td>ohc</td>\n",
       "      <td>four</td>\n",
       "      <td>102</td>\n",
       "      <td>13950.0</td>\n",
       "      <td>136.764706</td>\n",
       "    </tr>\n",
       "    <tr>\n",
       "      <th>4</th>\n",
       "      <td>audi</td>\n",
       "      <td>sedan</td>\n",
       "      <td>99.4</td>\n",
       "      <td>176.6</td>\n",
       "      <td>ohc</td>\n",
       "      <td>five</td>\n",
       "      <td>115</td>\n",
       "      <td>17450.0</td>\n",
       "      <td>151.739130</td>\n",
       "    </tr>\n",
       "    <tr>\n",
       "      <th>...</th>\n",
       "      <td>...</td>\n",
       "      <td>...</td>\n",
       "      <td>...</td>\n",
       "      <td>...</td>\n",
       "      <td>...</td>\n",
       "      <td>...</td>\n",
       "      <td>...</td>\n",
       "      <td>...</td>\n",
       "      <td>...</td>\n",
       "    </tr>\n",
       "    <tr>\n",
       "      <th>81</th>\n",
       "      <td>volkswagen</td>\n",
       "      <td>sedan</td>\n",
       "      <td>97.3</td>\n",
       "      <td>171.7</td>\n",
       "      <td>ohc</td>\n",
       "      <td>four</td>\n",
       "      <td>85</td>\n",
       "      <td>7975.0</td>\n",
       "      <td>93.823529</td>\n",
       "    </tr>\n",
       "    <tr>\n",
       "      <th>82</th>\n",
       "      <td>volkswagen</td>\n",
       "      <td>sedan</td>\n",
       "      <td>97.3</td>\n",
       "      <td>171.7</td>\n",
       "      <td>ohc</td>\n",
       "      <td>four</td>\n",
       "      <td>52</td>\n",
       "      <td>7995.0</td>\n",
       "      <td>153.750000</td>\n",
       "    </tr>\n",
       "    <tr>\n",
       "      <th>86</th>\n",
       "      <td>volkswagen</td>\n",
       "      <td>sedan</td>\n",
       "      <td>97.3</td>\n",
       "      <td>171.7</td>\n",
       "      <td>ohc</td>\n",
       "      <td>four</td>\n",
       "      <td>100</td>\n",
       "      <td>9995.0</td>\n",
       "      <td>99.950000</td>\n",
       "    </tr>\n",
       "    <tr>\n",
       "      <th>87</th>\n",
       "      <td>volvo</td>\n",
       "      <td>sedan</td>\n",
       "      <td>104.3</td>\n",
       "      <td>188.8</td>\n",
       "      <td>ohc</td>\n",
       "      <td>four</td>\n",
       "      <td>114</td>\n",
       "      <td>12940.0</td>\n",
       "      <td>113.508772</td>\n",
       "    </tr>\n",
       "    <tr>\n",
       "      <th>88</th>\n",
       "      <td>volvo</td>\n",
       "      <td>wagon</td>\n",
       "      <td>104.3</td>\n",
       "      <td>188.8</td>\n",
       "      <td>ohc</td>\n",
       "      <td>four</td>\n",
       "      <td>114</td>\n",
       "      <td>13415.0</td>\n",
       "      <td>117.675439</td>\n",
       "    </tr>\n",
       "  </tbody>\n",
       "</table>\n",
       "<p>61 rows × 9 columns</p>\n",
       "</div>"
      ],
      "text/plain": [
       "           company   body-style  wheel-base  length engine-type  \\\n",
       "index                                                             \n",
       "0      alfa-romero  convertible        88.6   168.8        dohc   \n",
       "1      alfa-romero  convertible        88.6   168.8        dohc   \n",
       "2      alfa-romero    hatchback        94.5   171.2        ohcv   \n",
       "3             audi        sedan        99.8   176.6         ohc   \n",
       "4             audi        sedan        99.4   176.6         ohc   \n",
       "...            ...          ...         ...     ...         ...   \n",
       "81      volkswagen        sedan        97.3   171.7         ohc   \n",
       "82      volkswagen        sedan        97.3   171.7         ohc   \n",
       "86      volkswagen        sedan        97.3   171.7         ohc   \n",
       "87           volvo        sedan       104.3   188.8         ohc   \n",
       "88           volvo        wagon       104.3   188.8         ohc   \n",
       "\n",
       "      num-of-cylinders  horsepower    price  avg_price_per_cv  \n",
       "index                                                          \n",
       "0                 four         111  13495.0        121.576577  \n",
       "1                 four         111  16500.0        148.648649  \n",
       "2                  six         154  16500.0        107.142857  \n",
       "3                 four         102  13950.0        136.764706  \n",
       "4                 five         115  17450.0        151.739130  \n",
       "...                ...         ...      ...               ...  \n",
       "81                four          85   7975.0         93.823529  \n",
       "82                four          52   7995.0        153.750000  \n",
       "86                four         100   9995.0         99.950000  \n",
       "87                four         114  12940.0        113.508772  \n",
       "88                four         114  13415.0        117.675439  \n",
       "\n",
       "[61 rows x 9 columns]"
      ]
     },
     "execution_count": 20,
     "metadata": {},
     "output_type": "execute_result"
    }
   ],
   "source": [
    "<FILL IN>"
   ]
  },
  {
   "cell_type": "markdown",
   "metadata": {
    "id": "ihRxLIVtUuG2"
   },
   "source": [
    "<div class=\"alert alert-info\"><b>  Exercise 13 </b>\n",
    "\n",
    "Compute the price of the most expensive car for each of the companies. The expected outcome is:\n",
    "\n",
    "```\n",
    "company\n",
    "alfa-romero      16500.0\n",
    "audi             18920.0\n",
    "bmw              41315.0\n",
    "chevrolet         6575.0\n",
    "dodge             6377.0\n",
    "honda            12945.0\n",
    "isuzu             6785.0\n",
    "jaguar           36000.0\n",
    "mazda            18344.0\n",
    "mercedes-benz    45400.0\n",
    "mitsubishi        8189.0\n",
    "nissan           13499.0\n",
    "porsche          37028.0\n",
    "toyota           15750.0\n",
    "volkswagen        9995.0\n",
    "volvo            13415.0\n",
    "Name: price, dtype: float64\n",
    "```\n",
    "\n",
    "</div>"
   ]
  },
  {
   "cell_type": "code",
   "execution_count": 23,
   "metadata": {
    "ExecuteTime": {
     "end_time": "2019-12-13T09:18:44.582006Z",
     "start_time": "2019-12-13T09:18:44.311241Z"
    },
    "colab": {
     "base_uri": "https://localhost:8080/"
    },
    "id": "AUjLzS7yUuG3",
    "outputId": "29b5a563-b35d-4789-bc19-e096f30f7b37"
   },
   "outputs": [
    {
     "data": {
      "text/plain": [
       "company\n",
       "alfa-romero      16500.0\n",
       "audi             18920.0\n",
       "bmw              41315.0\n",
       "chevrolet         6575.0\n",
       "dodge             6377.0\n",
       "honda            12945.0\n",
       "isuzu             6785.0\n",
       "jaguar           36000.0\n",
       "mazda            18344.0\n",
       "mercedes-benz    45400.0\n",
       "mitsubishi        8189.0\n",
       "nissan           13499.0\n",
       "porsche          37028.0\n",
       "toyota           15750.0\n",
       "volkswagen        9995.0\n",
       "volvo            13415.0\n",
       "Name: price, dtype: float64"
      ]
     },
     "execution_count": 23,
     "metadata": {},
     "output_type": "execute_result"
    }
   ],
   "source": [
    "<FILL IN>"
   ]
  },
  {
   "cell_type": "markdown",
   "metadata": {},
   "source": [
    "<div class=\"alert alert-info\"><b>  Exercise 14 </b>\n",
    "\n",
    "compute the average car price for each company. To do this you can use the function ```.groupby()``` in combination with an agregation function such as ```.mean()```.\n",
    "\n",
    "</div>"
   ]
  },
  {
   "cell_type": "code",
   "execution_count": 24,
   "metadata": {},
   "outputs": [
    {
     "data": {
      "text/plain": [
       "company\n",
       "alfa-romero      15498.333333\n",
       "audi             16392.500000\n",
       "bmw              27213.333333\n",
       "chevrolet         6007.000000\n",
       "dodge             6303.000000\n",
       "honda            10195.000000\n",
       "isuzu             6785.000000\n",
       "jaguar           34600.000000\n",
       "mazda             9654.800000\n",
       "mercedes-benz    35040.000000\n",
       "mitsubishi        6689.000000\n",
       "nissan            8289.000000\n",
       "porsche          35528.000000\n",
       "toyota            8216.857143\n",
       "volkswagen        8435.000000\n",
       "volvo            13177.500000\n",
       "Name: price, dtype: float64"
      ]
     },
     "execution_count": 24,
     "metadata": {},
     "output_type": "execute_result"
    }
   ],
   "source": [
    "<FILL IN>"
   ]
  },
  {
   "cell_type": "markdown",
   "metadata": {
    "id": "OAMux4m4UuG3"
   },
   "source": [
    "<div class=\"alert alert-info\"><b>  Exercise 15  </b>\n",
    "Now compute the average price for each company and body-style combination\n",
    "\n",
    "</div>\n",
    "\n",
    "\n",
    "<div class=\"alert alert-warning\">\n",
    "\n",
    "Hint: You can groupby data using more than one column at the same time\n",
    "\n",
    "</div>"
   ]
  },
  {
   "cell_type": "code",
   "execution_count": 25,
   "metadata": {
    "ExecuteTime": {
     "end_time": "2019-12-13T09:19:17.559678Z",
     "start_time": "2019-12-13T09:19:17.495579Z"
    },
    "colab": {
     "base_uri": "https://localhost:8080/"
    },
    "id": "hNZO6vulUuG4",
    "outputId": "57e80af1-0a5b-45a1-da41-3cc4829cbf55"
   },
   "outputs": [
    {
     "data": {
      "text/plain": [
       "company        body-style \n",
       "alfa-romero    convertible    14997.500000\n",
       "               hatchback      16500.000000\n",
       "audi           sedan          15550.000000\n",
       "               wagon          18920.000000\n",
       "bmw            sedan          27213.333333\n",
       "chevrolet      hatchback       5723.000000\n",
       "               sedan           6575.000000\n",
       "dodge          hatchback       6303.000000\n",
       "honda          sedan          11645.000000\n",
       "               wagon           7295.000000\n",
       "isuzu          sedan           6785.000000\n",
       "jaguar         sedan          34600.000000\n",
       "mazda          hatchback       7482.500000\n",
       "               sedan          18344.000000\n",
       "mercedes-benz  hardtop        45400.000000\n",
       "               sedan          33256.000000\n",
       "               wagon          28248.000000\n",
       "mitsubishi     hatchback       5789.000000\n",
       "               sedan           7589.000000\n",
       "nissan         sedan           8524.000000\n",
       "               wagon           7349.000000\n",
       "porsche        convertible    37028.000000\n",
       "               hardtop        34028.000000\n",
       "               hatchback               NaN\n",
       "toyota         hatchback       6058.000000\n",
       "               wagon           9836.000000\n",
       "volkswagen     sedan           8435.000000\n",
       "volvo          sedan          12940.000000\n",
       "               wagon          13415.000000\n",
       "Name: price, dtype: float64"
      ]
     },
     "execution_count": 25,
     "metadata": {},
     "output_type": "execute_result"
    }
   ],
   "source": [
    "<FILL IN>"
   ]
  },
  {
   "cell_type": "markdown",
   "metadata": {},
   "source": [
    "<div class=\"alert alert-info\"><b>  Exercise 16 </b>\n",
    "\n",
    "Now, let's compute some statistics for each ```company```. Use the function ```.groupby()``` to compute the min, mean and max values for the columns: ```price```,  ```horsepower``` and ```length```.\n",
    "\n",
    "</div>"
   ]
  },
  {
   "cell_type": "code",
   "execution_count": 26,
   "metadata": {},
   "outputs": [
    {
     "data": {
      "text/html": [
       "<div>\n",
       "<style scoped>\n",
       "    .dataframe tbody tr th:only-of-type {\n",
       "        vertical-align: middle;\n",
       "    }\n",
       "\n",
       "    .dataframe tbody tr th {\n",
       "        vertical-align: top;\n",
       "    }\n",
       "\n",
       "    .dataframe thead th {\n",
       "        text-align: right;\n",
       "    }\n",
       "</style>\n",
       "<table border=\"1\" class=\"dataframe\">\n",
       "  <thead>\n",
       "    <tr style=\"text-align: right;\">\n",
       "      <th></th>\n",
       "      <th>price</th>\n",
       "      <th>horsepower</th>\n",
       "      <th>length</th>\n",
       "    </tr>\n",
       "    <tr>\n",
       "      <th>company</th>\n",
       "      <th></th>\n",
       "      <th></th>\n",
       "      <th></th>\n",
       "    </tr>\n",
       "  </thead>\n",
       "  <tbody>\n",
       "    <tr>\n",
       "      <th>alfa-romero</th>\n",
       "      <td>15498.333333</td>\n",
       "      <td>125.333333</td>\n",
       "      <td>169.600000</td>\n",
       "    </tr>\n",
       "    <tr>\n",
       "      <th>audi</th>\n",
       "      <td>16392.500000</td>\n",
       "      <td>109.250000</td>\n",
       "      <td>180.800000</td>\n",
       "    </tr>\n",
       "    <tr>\n",
       "      <th>bmw</th>\n",
       "      <td>27213.333333</td>\n",
       "      <td>144.833333</td>\n",
       "      <td>185.033333</td>\n",
       "    </tr>\n",
       "    <tr>\n",
       "      <th>chevrolet</th>\n",
       "      <td>6007.000000</td>\n",
       "      <td>62.666667</td>\n",
       "      <td>151.933333</td>\n",
       "    </tr>\n",
       "    <tr>\n",
       "      <th>dodge</th>\n",
       "      <td>6303.000000</td>\n",
       "      <td>68.000000</td>\n",
       "      <td>157.300000</td>\n",
       "    </tr>\n",
       "    <tr>\n",
       "      <th>honda</th>\n",
       "      <td>10195.000000</td>\n",
       "      <td>92.333333</td>\n",
       "      <td>167.200000</td>\n",
       "    </tr>\n",
       "    <tr>\n",
       "      <th>isuzu</th>\n",
       "      <td>6785.000000</td>\n",
       "      <td>72.666667</td>\n",
       "      <td>160.833333</td>\n",
       "    </tr>\n",
       "    <tr>\n",
       "      <th>jaguar</th>\n",
       "      <td>34600.000000</td>\n",
       "      <td>204.666667</td>\n",
       "      <td>196.966667</td>\n",
       "    </tr>\n",
       "    <tr>\n",
       "      <th>mazda</th>\n",
       "      <td>9654.800000</td>\n",
       "      <td>75.400000</td>\n",
       "      <td>164.260000</td>\n",
       "    </tr>\n",
       "    <tr>\n",
       "      <th>mercedes-benz</th>\n",
       "      <td>35040.000000</td>\n",
       "      <td>153.500000</td>\n",
       "      <td>197.275000</td>\n",
       "    </tr>\n",
       "    <tr>\n",
       "      <th>mitsubishi</th>\n",
       "      <td>6689.000000</td>\n",
       "      <td>78.000000</td>\n",
       "      <td>164.850000</td>\n",
       "    </tr>\n",
       "    <tr>\n",
       "      <th>nissan</th>\n",
       "      <td>8289.000000</td>\n",
       "      <td>82.800000</td>\n",
       "      <td>170.140000</td>\n",
       "    </tr>\n",
       "    <tr>\n",
       "      <th>porsche</th>\n",
       "      <td>35528.000000</td>\n",
       "      <td>234.000000</td>\n",
       "      <td>171.166667</td>\n",
       "    </tr>\n",
       "    <tr>\n",
       "      <th>toyota</th>\n",
       "      <td>8216.857143</td>\n",
       "      <td>75.428571</td>\n",
       "      <td>167.571429</td>\n",
       "    </tr>\n",
       "    <tr>\n",
       "      <th>volkswagen</th>\n",
       "      <td>8435.000000</td>\n",
       "      <td>72.250000</td>\n",
       "      <td>171.700000</td>\n",
       "    </tr>\n",
       "    <tr>\n",
       "      <th>volvo</th>\n",
       "      <td>13177.500000</td>\n",
       "      <td>114.000000</td>\n",
       "      <td>188.800000</td>\n",
       "    </tr>\n",
       "  </tbody>\n",
       "</table>\n",
       "</div>"
      ],
      "text/plain": [
       "                      price  horsepower      length\n",
       "company                                            \n",
       "alfa-romero    15498.333333  125.333333  169.600000\n",
       "audi           16392.500000  109.250000  180.800000\n",
       "bmw            27213.333333  144.833333  185.033333\n",
       "chevrolet       6007.000000   62.666667  151.933333\n",
       "dodge           6303.000000   68.000000  157.300000\n",
       "honda          10195.000000   92.333333  167.200000\n",
       "isuzu           6785.000000   72.666667  160.833333\n",
       "jaguar         34600.000000  204.666667  196.966667\n",
       "mazda           9654.800000   75.400000  164.260000\n",
       "mercedes-benz  35040.000000  153.500000  197.275000\n",
       "mitsubishi      6689.000000   78.000000  164.850000\n",
       "nissan          8289.000000   82.800000  170.140000\n",
       "porsche        35528.000000  234.000000  171.166667\n",
       "toyota          8216.857143   75.428571  167.571429\n",
       "volkswagen      8435.000000   72.250000  171.700000\n",
       "volvo          13177.500000  114.000000  188.800000"
      ]
     },
     "execution_count": 26,
     "metadata": {},
     "output_type": "execute_result"
    }
   ],
   "source": [
    "<FILL IN>"
   ]
  },
  {
   "cell_type": "markdown",
   "metadata": {
    "id": "o0pV-tF8UuG4"
   },
   "source": [
    "<div class=\"alert alert-info\"><b>  Exercise 17 </b>\n",
    "\n",
    "If you inspect the data, the ```number of cylinders``` column displays this value in string form. However, in the future, we might need to operate with this value and therefore would like to convert this to an integer. To solve this issue, we will first check how many different values of the num-of-cylinders are there. \n",
    "\n",
    "</div>\n",
    "\n",
    "<div class=\"alert alert-warning\">\n",
    "\n",
    "Hint: You can use the `.unique()` function\n",
    "\n",
    "</div>"
   ]
  },
  {
   "cell_type": "code",
   "execution_count": 27,
   "metadata": {
    "ExecuteTime": {
     "end_time": "2019-12-13T09:19:38.866817Z",
     "start_time": "2019-12-13T09:19:38.844374Z"
    },
    "colab": {
     "base_uri": "https://localhost:8080/"
    },
    "id": "lkMNeXlBUuG5",
    "outputId": "110f93f7-84c3-4ca8-c743-7a5982d5a168"
   },
   "outputs": [
    {
     "data": {
      "text/plain": [
       "array(['four', 'six', 'five', 'three', 'twelve', 'two', 'eight'],\n",
       "      dtype=object)"
      ]
     },
     "execution_count": 27,
     "metadata": {},
     "output_type": "execute_result"
    }
   ],
   "source": [
    "<FILL IN>"
   ]
  }
 ],
 "metadata": {
  "colab": {
   "collapsed_sections": [],
   "name": "Pandas.ipynb",
   "provenance": []
  },
  "kernelspec": {
   "display_name": "Python 3",
   "language": "python",
   "name": "python3"
  },
  "language_info": {
   "codemirror_mode": {
    "name": "ipython",
    "version": 3
   },
   "file_extension": ".py",
   "mimetype": "text/x-python",
   "name": "python",
   "nbconvert_exporter": "python",
   "pygments_lexer": "ipython3",
   "version": "3.11.7"
  },
  "toc": {
   "base_numbering": 1,
   "nav_menu": {},
   "number_sections": true,
   "sideBar": true,
   "skip_h1_title": false,
   "title_cell": "Table of Contents",
   "title_sidebar": "Contents",
   "toc_cell": false,
   "toc_position": {},
   "toc_section_display": true,
   "toc_window_display": false
  },
  "varInspector": {
   "cols": {
    "lenName": 16,
    "lenType": 16,
    "lenVar": 40
   },
   "kernels_config": {
    "python": {
     "delete_cmd_postfix": "",
     "delete_cmd_prefix": "del ",
     "library": "var_list.py",
     "varRefreshCmd": "print(var_dic_list())"
    },
    "r": {
     "delete_cmd_postfix": ") ",
     "delete_cmd_prefix": "rm(",
     "library": "var_list.r",
     "varRefreshCmd": "cat(var_dic_list()) "
    }
   },
   "types_to_exclude": [
    "module",
    "function",
    "builtin_function_or_method",
    "instance",
    "_Feature"
   ],
   "window_display": false
  }
 },
 "nbformat": 4,
 "nbformat_minor": 1
}
