{
 "cells": [
  {
   "cell_type": "markdown",
   "id": "ada8f9e8",
   "metadata": {},
   "source": [
    "# Basic pandas\n",
    "\n",
    "Pandas is a Python library. It is already installed in Anaconda, so that we do not need to install it again.\n",
    "However, in order to use it, we must import it first."
   ]
  },
  {
   "cell_type": "code",
   "execution_count": 3,
   "id": "d782f941",
   "metadata": {},
   "outputs": [],
   "source": [
    "import pandas as pd"
   ]
  },
  {
   "cell_type": "markdown",
   "id": "d34c3e30",
   "metadata": {},
   "source": [
    "Once having run the code above, we will be able to access the content in the Pandas library using the statement pd."
   ]
  },
  {
   "cell_type": "markdown",
   "id": "42dc2a95",
   "metadata": {},
   "source": [
    "<div class=\"alert alert-info\"><b> Exercise 1 </b>\n",
    "\n",
    "Define a Series that stores the price of different ages ```[28, 34, 29, 42]```. Assign the content in this Series to a new variable called ```ages```.\n",
    "\n",
    "</div>"
   ]
  },
  {
   "cell_type": "code",
   "execution_count": 4,
   "id": "7212349b",
   "metadata": {},
   "outputs": [
    {
     "name": "stdout",
     "output_type": "stream",
     "text": [
      "0    28\n",
      "1    34\n",
      "2    29\n",
      "3    42\n",
      "dtype: int64\n"
     ]
    }
   ],
   "source": [
    "ages = pd.Series([28, 34, 29, 42])\n",
    "print(ages)"
   ]
  },
  {
   "cell_type": "markdown",
   "id": "ed013e4e",
   "metadata": {},
   "source": [
    "<div class=\"alert alert-info\"><b> Exercise 2 </b>\n",
    "\n",
    "As before, define a Series called age that contains the data ```[28, 34, 29, 42]```. This time set the index parameter to the value ```index = ['Tom', 'Jack', 'Bob', 'Ann']```\n",
    "\n",
    "</div>"
   ]
  },
  {
   "cell_type": "code",
   "execution_count": 31,
   "id": "02fafcad",
   "metadata": {},
   "outputs": [
    {
     "data": {
      "text/plain": [
       "Tom     28\n",
       "Jack    34\n",
       "Bob     29\n",
       "Ann     42\n",
       "dtype: int64"
      ]
     },
     "execution_count": 31,
     "metadata": {},
     "output_type": "execute_result"
    }
   ],
   "source": [
    "ages = pd.Series([28, 34, 29, 42], index = ['Tom', 'Jack', 'Bob', 'Ann'])\n",
    "\n",
    "ages"
   ]
  },
  {
   "cell_type": "markdown",
   "id": "5c431ae4",
   "metadata": {},
   "source": [
    "<div class=\"alert alert-info\"><b> Exercise 3 </b>\n",
    "\n",
    "Define a dictionary as ```data = {'Tom' : 28, 'Jack' : 34, 'Bob' : 29, 'Ann': 42}```. Then, Create a Series using the data dictionary. Print the Series. What values are assigned to the index?\n",
    "\n",
    "</div>"
   ]
  },
  {
   "cell_type": "code",
   "execution_count": 33,
   "id": "08e15c9a",
   "metadata": {},
   "outputs": [
    {
     "data": {
      "text/plain": [
       "Tom     28\n",
       "Jack    34\n",
       "Bob     29\n",
       "Ann     42\n",
       "dtype: int64"
      ]
     },
     "execution_count": 33,
     "metadata": {},
     "output_type": "execute_result"
    }
   ],
   "source": [
    "data = {'Tom' : 28, 'Jack' : 34, 'Bob' : 29, 'Ann': 42}\n",
    "ages = pd.Series(data)\n",
    "ages"
   ]
  },
  {
   "cell_type": "markdown",
   "id": "b76fcf7e",
   "metadata": {},
   "source": [
    "<div class=\"alert alert-info\"><b> Exercise 4 </b>\n",
    "\n",
    "Define a DataFrame that contains the same data as the previous exercise, ```{'Tom' : 28, 'Jack' : 34, 'Bob' : 29, 'Ann': 42}```, but this time in a nested list form. If we don’t provide any names for the columns parameter, what values does Python assign to the columns?. Now define the same DataFrame but this time set the columns value to ```columns = ['Name', 'Age']```. Finally, change the default index to ```['rank1', 'rank2', 'rank3', 'rank4']```.\n",
    "\n",
    "</div>"
   ]
  },
  {
   "cell_type": "code",
   "execution_count": 36,
   "id": "c7d9e398",
   "metadata": {},
   "outputs": [
    {
     "data": {
      "text/html": [
       "<div>\n",
       "<style scoped>\n",
       "    .dataframe tbody tr th:only-of-type {\n",
       "        vertical-align: middle;\n",
       "    }\n",
       "\n",
       "    .dataframe tbody tr th {\n",
       "        vertical-align: top;\n",
       "    }\n",
       "\n",
       "    .dataframe thead th {\n",
       "        text-align: right;\n",
       "    }\n",
       "</style>\n",
       "<table border=\"1\" class=\"dataframe\">\n",
       "  <thead>\n",
       "    <tr style=\"text-align: right;\">\n",
       "      <th></th>\n",
       "      <th>0</th>\n",
       "      <th>1</th>\n",
       "    </tr>\n",
       "  </thead>\n",
       "  <tbody>\n",
       "    <tr>\n",
       "      <th>0</th>\n",
       "      <td>Tom</td>\n",
       "      <td>28</td>\n",
       "    </tr>\n",
       "    <tr>\n",
       "      <th>1</th>\n",
       "      <td>Jack</td>\n",
       "      <td>34</td>\n",
       "    </tr>\n",
       "    <tr>\n",
       "      <th>2</th>\n",
       "      <td>Bob</td>\n",
       "      <td>29</td>\n",
       "    </tr>\n",
       "    <tr>\n",
       "      <th>3</th>\n",
       "      <td>Ann</td>\n",
       "      <td>42</td>\n",
       "    </tr>\n",
       "  </tbody>\n",
       "</table>\n",
       "</div>"
      ],
      "text/plain": [
       "      0   1\n",
       "0   Tom  28\n",
       "1  Jack  34\n",
       "2   Bob  29\n",
       "3   Ann  42"
      ]
     },
     "execution_count": 36,
     "metadata": {},
     "output_type": "execute_result"
    }
   ],
   "source": [
    "data = [['Tom' , 28], ['Jack', 34], ['Bob', 29], ['Ann', 42]]\n",
    "df = pd.DataFrame(data)\n",
    "df"
   ]
  },
  {
   "cell_type": "code",
   "execution_count": 37,
   "id": "7d6025ae",
   "metadata": {},
   "outputs": [
    {
     "data": {
      "text/html": [
       "<div>\n",
       "<style scoped>\n",
       "    .dataframe tbody tr th:only-of-type {\n",
       "        vertical-align: middle;\n",
       "    }\n",
       "\n",
       "    .dataframe tbody tr th {\n",
       "        vertical-align: top;\n",
       "    }\n",
       "\n",
       "    .dataframe thead th {\n",
       "        text-align: right;\n",
       "    }\n",
       "</style>\n",
       "<table border=\"1\" class=\"dataframe\">\n",
       "  <thead>\n",
       "    <tr style=\"text-align: right;\">\n",
       "      <th></th>\n",
       "      <th>Name</th>\n",
       "      <th>Age</th>\n",
       "    </tr>\n",
       "  </thead>\n",
       "  <tbody>\n",
       "    <tr>\n",
       "      <th>rank1</th>\n",
       "      <td>Tom</td>\n",
       "      <td>28</td>\n",
       "    </tr>\n",
       "    <tr>\n",
       "      <th>rank2</th>\n",
       "      <td>Jack</td>\n",
       "      <td>34</td>\n",
       "    </tr>\n",
       "    <tr>\n",
       "      <th>rank3</th>\n",
       "      <td>Bob</td>\n",
       "      <td>29</td>\n",
       "    </tr>\n",
       "    <tr>\n",
       "      <th>rank4</th>\n",
       "      <td>Ann</td>\n",
       "      <td>42</td>\n",
       "    </tr>\n",
       "  </tbody>\n",
       "</table>\n",
       "</div>"
      ],
      "text/plain": [
       "       Name  Age\n",
       "rank1   Tom   28\n",
       "rank2  Jack   34\n",
       "rank3   Bob   29\n",
       "rank4   Ann   42"
      ]
     },
     "execution_count": 37,
     "metadata": {},
     "output_type": "execute_result"
    }
   ],
   "source": [
    "data = [['Tom' , 28], ['Jack', 34], ['Bob', 29], ['Ann', 42]]\n",
    "df = pd.DataFrame(data, columns = ['Name', 'Age'], index = ['rank1', 'rank2', 'rank3', 'rank4'])\n",
    "df"
   ]
  },
  {
   "cell_type": "markdown",
   "id": "136c62cc",
   "metadata": {},
   "source": [
    "<div class=\"alert alert-info\"><b> Exercise 5 </b>\n",
    "\n",
    "Take the DataFrame defined above and add a new column named 'Vegetarian' with the values ```[False, True, True, True]```. Then, create a new column called ```Age (in days)``` that stores the age of each person in days, assuming a year has exactly 365 days.\n",
    "\n",
    "</div>"
   ]
  },
  {
   "cell_type": "code",
   "execution_count": 41,
   "id": "ca6f0438",
   "metadata": {},
   "outputs": [
    {
     "data": {
      "text/html": [
       "<div>\n",
       "<style scoped>\n",
       "    .dataframe tbody tr th:only-of-type {\n",
       "        vertical-align: middle;\n",
       "    }\n",
       "\n",
       "    .dataframe tbody tr th {\n",
       "        vertical-align: top;\n",
       "    }\n",
       "\n",
       "    .dataframe thead th {\n",
       "        text-align: right;\n",
       "    }\n",
       "</style>\n",
       "<table border=\"1\" class=\"dataframe\">\n",
       "  <thead>\n",
       "    <tr style=\"text-align: right;\">\n",
       "      <th></th>\n",
       "      <th>Name</th>\n",
       "      <th>Age</th>\n",
       "      <th>Vegetarian</th>\n",
       "      <th>Age (in days)</th>\n",
       "    </tr>\n",
       "  </thead>\n",
       "  <tbody>\n",
       "    <tr>\n",
       "      <th>rank1</th>\n",
       "      <td>Tom</td>\n",
       "      <td>28</td>\n",
       "      <td>False</td>\n",
       "      <td>10220</td>\n",
       "    </tr>\n",
       "    <tr>\n",
       "      <th>rank2</th>\n",
       "      <td>Jack</td>\n",
       "      <td>34</td>\n",
       "      <td>True</td>\n",
       "      <td>12410</td>\n",
       "    </tr>\n",
       "    <tr>\n",
       "      <th>rank3</th>\n",
       "      <td>Bob</td>\n",
       "      <td>29</td>\n",
       "      <td>True</td>\n",
       "      <td>10585</td>\n",
       "    </tr>\n",
       "    <tr>\n",
       "      <th>rank4</th>\n",
       "      <td>Ann</td>\n",
       "      <td>42</td>\n",
       "      <td>True</td>\n",
       "      <td>15330</td>\n",
       "    </tr>\n",
       "  </tbody>\n",
       "</table>\n",
       "</div>"
      ],
      "text/plain": [
       "       Name  Age  Vegetarian  Age (in days)\n",
       "rank1   Tom   28       False          10220\n",
       "rank2  Jack   34        True          12410\n",
       "rank3   Bob   29        True          10585\n",
       "rank4   Ann   42        True          15330"
      ]
     },
     "execution_count": 41,
     "metadata": {},
     "output_type": "execute_result"
    }
   ],
   "source": [
    "df['Vegetarian'] = [False, True, True, True]\n",
    "df['Age (in days)'] = df['Age'] * 365\n",
    "df"
   ]
  },
  {
   "cell_type": "markdown",
   "id": "d5a931e9",
   "metadata": {},
   "source": [
    "<div class=\"alert alert-info\"><b> Exercise 6 </b>\n",
    "\n",
    "Take the DataFrame defined above and select only the column ```'Name'```. Now select the first and third rows. Modify the DataFrame to remove the second row. Now remove the ```Vegetarian``` column.\n",
    "\n",
    "</div>"
   ]
  },
  {
   "cell_type": "code",
   "execution_count": null,
   "id": "6d513bd6",
   "metadata": {},
   "outputs": [],
   "source": [
    "<FILL IN>"
   ]
  },
  {
   "cell_type": "markdown",
   "id": "53ea53ae",
   "metadata": {},
   "source": [
    "<div class=\"alert alert-info\"><b> Exercise 7 </b>\n",
    "\n",
    "Define two lists, ```age = [24, 55, 17, 73, 54]``` and ```income = [23000, 60000, 18000, 55000, 38000]```. Define a DataFrame df such that ```data = {'age': age, 'income': income}``` and assign indexes such that ```index = ['John', 'Liza', 'Jane', 'Tom', 'Mark']```. Try to understand what the command ```df.describe()``` does.\n",
    "</div>"
   ]
  },
  {
   "cell_type": "code",
   "execution_count": null,
   "id": "8172403e",
   "metadata": {},
   "outputs": [],
   "source": [
    "<FILL IN>"
   ]
  },
  {
   "cell_type": "markdown",
   "id": "3d50df9a",
   "metadata": {},
   "source": [
    "<div class=\"alert alert-info\"><b> Exercise 8 </b>\n",
    "\n",
    "Take the DataFrame defined above and find the minimum and maximum values for the ```'age'``` column. Also compute the mean for the ```'income'``` column.\n",
    "</div>"
   ]
  },
  {
   "cell_type": "code",
   "execution_count": null,
   "id": "db3d6dcf",
   "metadata": {},
   "outputs": [],
   "source": [
    "<FILL IN>"
   ]
  },
  {
   "cell_type": "markdown",
   "id": "6a5c9133",
   "metadata": {},
   "source": [
    "<div class=\"alert alert-info\"><b> Exercise 9 </b>\n",
    "\n",
    "Filter your DataFrame to select only those entries with an income higher that 25000. Now try filtering your DataFrame to select only those entries such that name is equal to Liza.\n",
    "\n",
    "</div>"
   ]
  },
  {
   "cell_type": "code",
   "execution_count": null,
   "id": "fe3da9da",
   "metadata": {},
   "outputs": [],
   "source": [
    "<FILL IN>"
   ]
  },
  {
   "cell_type": "markdown",
   "id": "103a348c",
   "metadata": {},
   "source": [
    "<div class=\"alert alert-info\"><b> Exercise 10 </b>\n",
    "\n",
    "Filter your DataFrame to select only those entries with an ```income``` higher that 25000 and an ```age``` below 60.\n",
    "\n",
    "</div>"
   ]
  },
  {
   "cell_type": "code",
   "execution_count": null,
   "id": "69273d83",
   "metadata": {},
   "outputs": [],
   "source": [
    "<FILL IN>"
   ]
  },
  {
   "cell_type": "markdown",
   "id": "c1bb8f6f",
   "metadata": {},
   "source": [
    "<div class=\"alert alert-info\"><b> Exercise 11 </b>\n",
    "\n",
    "Add a new column ```'gender'``` that contains the gender of each individual in our DataFrame. Use the ```df.groupby()``` function to group all entries by the new ```'gender'``` column and and compute the aggregated maximum for the remaining columns. Now try to compute the average ```'income'``` by ```'gender'```.\n",
    "\n",
    "</div>"
   ]
  },
  {
   "cell_type": "code",
   "execution_count": null,
   "id": "746d2afc",
   "metadata": {},
   "outputs": [],
   "source": [
    "<FILL IN>"
   ]
  },
  {
   "cell_type": "code",
   "execution_count": null,
   "id": "5edc8432",
   "metadata": {},
   "outputs": [],
   "source": []
  }
 ],
 "metadata": {
  "kernelspec": {
   "display_name": "Python 3 (ipykernel)",
   "language": "python",
   "name": "python3"
  },
  "language_info": {
   "codemirror_mode": {
    "name": "ipython",
    "version": 3
   },
   "file_extension": ".py",
   "mimetype": "text/x-python",
   "name": "python",
   "nbconvert_exporter": "python",
   "pygments_lexer": "ipython3",
   "version": "3.11.5"
  }
 },
 "nbformat": 4,
 "nbformat_minor": 5
}
