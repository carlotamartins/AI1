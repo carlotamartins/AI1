{
 "cells": [
  {
   "cell_type": "markdown",
   "id": "reduced-trial",
   "metadata": {},
   "source": [
    "# Data preparation with sklearn\n",
    "\n",
    "In this notebook, we will work with three different datasets to practice to prepare them for training a machine learning model.\n",
    "\n",
    "Remember the main steps for doing that are:\n",
    "\n",
    "1. Outlier removal\n",
    "2. Missing values filling\n",
    "3. Data normalization\n",
    "4. Dealing with categorical variables"
   ]
  },
  {
   "cell_type": "markdown",
   "id": "authentic-highway",
   "metadata": {},
   "source": [
    "### Exercise 1\n",
    "\n",
    "Let's assume we have a small database of flu patients. We want to make a model to predict the need of hospitalization given the characteristics of the patients. However, before we need to pre-process a little bit the data.\n",
    "\n",
    "We have the following attributes:\n",
    "\n",
    "* Age: stored in years\n",
    "* Gender: Male / Female \n",
    "* Health status: Excelent / good / poor \n",
    "* Disease symptoms: in a scale from 0 to 10 where 0 is asymptomatic \n",
    "* Hospitalization need: 0 don't need hospitalization; 1 if they need it\n",
    "    \n",
    "The data is stored in lists. We provide here an example with 5 patients:"
   ]
  },
  {
   "cell_type": "code",
   "execution_count": 1,
   "id": "legendary-venture",
   "metadata": {},
   "outputs": [],
   "source": [
    "import pandas as pd\n",
    "from sklearn import set_config\n",
    "\n",
    "set_config(transform_output=\"pandas\")\n",
    "\n",
    "age = [70, 60, 35, None, 86]  # None is used to denote a missing value in Python\n",
    "gender = [\"Male\", \"Female\", \"Male\", \"Male\", \"Female\"]  \n",
    "health_status = [\"Excellent\", \"Poor\", \"Poor\", \"Excellent\", \"Good\"]  \n",
    "disease_symptoms = [0, 7, 5, 8, 9]  \n",
    "hospitalization = [0, 1, 1, 0, 0] "
   ]
  },
  {
   "cell_type": "markdown",
   "id": "peaceful-daisy",
   "metadata": {},
   "source": [
    "<div class=\"alert alert-info\"><b>Exercise 1.1</b> \n",
    "\n",
    "Create a dataframe called ```df``` that contains the provided data.\n",
    "</div>"
   ]
  },
  {
   "cell_type": "code",
   "execution_count": 2,
   "id": "sonic-kidney",
   "metadata": {},
   "outputs": [
    {
     "data": {
      "text/html": [
       "<div>\n",
       "<style scoped>\n",
       "    .dataframe tbody tr th:only-of-type {\n",
       "        vertical-align: middle;\n",
       "    }\n",
       "\n",
       "    .dataframe tbody tr th {\n",
       "        vertical-align: top;\n",
       "    }\n",
       "\n",
       "    .dataframe thead th {\n",
       "        text-align: right;\n",
       "    }\n",
       "</style>\n",
       "<table border=\"1\" class=\"dataframe\">\n",
       "  <thead>\n",
       "    <tr style=\"text-align: right;\">\n",
       "      <th></th>\n",
       "      <th>age</th>\n",
       "      <th>gender</th>\n",
       "      <th>health_status</th>\n",
       "      <th>disease_symptoms</th>\n",
       "      <th>hospitalization</th>\n",
       "    </tr>\n",
       "  </thead>\n",
       "  <tbody>\n",
       "    <tr>\n",
       "      <th>0</th>\n",
       "      <td>70.0</td>\n",
       "      <td>Male</td>\n",
       "      <td>Excellent</td>\n",
       "      <td>0</td>\n",
       "      <td>0</td>\n",
       "    </tr>\n",
       "    <tr>\n",
       "      <th>1</th>\n",
       "      <td>60.0</td>\n",
       "      <td>Female</td>\n",
       "      <td>Poor</td>\n",
       "      <td>7</td>\n",
       "      <td>1</td>\n",
       "    </tr>\n",
       "    <tr>\n",
       "      <th>2</th>\n",
       "      <td>35.0</td>\n",
       "      <td>Male</td>\n",
       "      <td>Poor</td>\n",
       "      <td>5</td>\n",
       "      <td>1</td>\n",
       "    </tr>\n",
       "    <tr>\n",
       "      <th>3</th>\n",
       "      <td>NaN</td>\n",
       "      <td>Male</td>\n",
       "      <td>Excellent</td>\n",
       "      <td>8</td>\n",
       "      <td>0</td>\n",
       "    </tr>\n",
       "    <tr>\n",
       "      <th>4</th>\n",
       "      <td>86.0</td>\n",
       "      <td>Female</td>\n",
       "      <td>Good</td>\n",
       "      <td>9</td>\n",
       "      <td>0</td>\n",
       "    </tr>\n",
       "  </tbody>\n",
       "</table>\n",
       "</div>"
      ],
      "text/plain": [
       "    age  gender health_status  disease_symptoms  hospitalization\n",
       "0  70.0    Male     Excellent                 0                0\n",
       "1  60.0  Female          Poor                 7                1\n",
       "2  35.0    Male          Poor                 5                1\n",
       "3   NaN    Male     Excellent                 8                0\n",
       "4  86.0  Female          Good                 9                0"
      ]
     },
     "execution_count": 2,
     "metadata": {},
     "output_type": "execute_result"
    }
   ],
   "source": [
    "df = pd.DataFrame(data = {\"age\": age, \"gender\": gender, \"health_status\": health_status, \n",
    "                          \"disease_symptoms\": disease_symptoms, \"hospitalization\": hospitalization })\n",
    "df"
   ]
  },
  {
   "cell_type": "markdown",
   "id": "suburban-picnic",
   "metadata": {},
   "source": [
    "<div class=\"alert alert-info\"><b>Exercise 1.2</b> \n",
    "\n",
    "Extract the features matrix and target array from the original DataFrame and store them in two new variables ```X``` and ```y```. Use column ```hospitalization``` as depedent variable.</div>"
   ]
  },
  {
   "cell_type": "code",
   "execution_count": 3,
   "id": "095c4e2b",
   "metadata": {},
   "outputs": [],
   "source": [
    "X = df.drop(columns = [\"hospitalization\"])\n",
    "y = df[\"hospitalization\"]"
   ]
  },
  {
   "cell_type": "markdown",
   "id": "271403ae",
   "metadata": {},
   "source": [
    "\n",
    "<div class=\"alert alert-info\"><b>Exercise 1.3</b> \n",
    "\n",
    "Fill the missing values for the ```age``` column with the mean of that column"
   ]
  },
  {
   "cell_type": "code",
   "execution_count": 4,
   "id": "baking-drunk",
   "metadata": {},
   "outputs": [
    {
     "data": {
      "text/html": [
       "<div>\n",
       "<style scoped>\n",
       "    .dataframe tbody tr th:only-of-type {\n",
       "        vertical-align: middle;\n",
       "    }\n",
       "\n",
       "    .dataframe tbody tr th {\n",
       "        vertical-align: top;\n",
       "    }\n",
       "\n",
       "    .dataframe thead th {\n",
       "        text-align: right;\n",
       "    }\n",
       "</style>\n",
       "<table border=\"1\" class=\"dataframe\">\n",
       "  <thead>\n",
       "    <tr style=\"text-align: right;\">\n",
       "      <th></th>\n",
       "      <th>age</th>\n",
       "      <th>gender</th>\n",
       "      <th>health_status</th>\n",
       "      <th>disease_symptoms</th>\n",
       "    </tr>\n",
       "  </thead>\n",
       "  <tbody>\n",
       "    <tr>\n",
       "      <th>0</th>\n",
       "      <td>70.00</td>\n",
       "      <td>Male</td>\n",
       "      <td>Excellent</td>\n",
       "      <td>0</td>\n",
       "    </tr>\n",
       "    <tr>\n",
       "      <th>1</th>\n",
       "      <td>60.00</td>\n",
       "      <td>Female</td>\n",
       "      <td>Poor</td>\n",
       "      <td>7</td>\n",
       "    </tr>\n",
       "    <tr>\n",
       "      <th>2</th>\n",
       "      <td>35.00</td>\n",
       "      <td>Male</td>\n",
       "      <td>Poor</td>\n",
       "      <td>5</td>\n",
       "    </tr>\n",
       "    <tr>\n",
       "      <th>3</th>\n",
       "      <td>62.75</td>\n",
       "      <td>Male</td>\n",
       "      <td>Excellent</td>\n",
       "      <td>8</td>\n",
       "    </tr>\n",
       "    <tr>\n",
       "      <th>4</th>\n",
       "      <td>86.00</td>\n",
       "      <td>Female</td>\n",
       "      <td>Good</td>\n",
       "      <td>9</td>\n",
       "    </tr>\n",
       "  </tbody>\n",
       "</table>\n",
       "</div>"
      ],
      "text/plain": [
       "     age  gender health_status  disease_symptoms\n",
       "0  70.00    Male     Excellent                 0\n",
       "1  60.00  Female          Poor                 7\n",
       "2  35.00    Male          Poor                 5\n",
       "3  62.75    Male     Excellent                 8\n",
       "4  86.00  Female          Good                 9"
      ]
     },
     "execution_count": 4,
     "metadata": {},
     "output_type": "execute_result"
    }
   ],
   "source": [
    "from sklearn.impute import SimpleImputer\n",
    "\n",
    "simple_imputer = SimpleImputer(strategy = 'mean')\n",
    "X_imputed = simple_imputer.fit_transform(X[['age']])\n",
    "\n",
    "X['age'] = X_imputed\n",
    "X"
   ]
  },
  {
   "cell_type": "markdown",
   "id": "handled-bulgarian",
   "metadata": {},
   "source": [
    "<div class=\"alert alert-info\"><b>Exercise 1.4</b> \n",
    "\n",
    "Use the sklearn library to create a one-hot encoder for the ```gender``` attribute that results in the adding of two new columns, ```female``` and ```male```, to your dataframe. Remember to remove the original attribute.\n",
    "</div>"
   ]
  },
  {
   "cell_type": "code",
   "execution_count": 5,
   "id": "70f14771",
   "metadata": {},
   "outputs": [
    {
     "data": {
      "text/html": [
       "<div>\n",
       "<style scoped>\n",
       "    .dataframe tbody tr th:only-of-type {\n",
       "        vertical-align: middle;\n",
       "    }\n",
       "\n",
       "    .dataframe tbody tr th {\n",
       "        vertical-align: top;\n",
       "    }\n",
       "\n",
       "    .dataframe thead th {\n",
       "        text-align: right;\n",
       "    }\n",
       "</style>\n",
       "<table border=\"1\" class=\"dataframe\">\n",
       "  <thead>\n",
       "    <tr style=\"text-align: right;\">\n",
       "      <th></th>\n",
       "      <th>age</th>\n",
       "      <th>health_status</th>\n",
       "      <th>disease_symptoms</th>\n",
       "      <th>gender_encoded</th>\n",
       "    </tr>\n",
       "  </thead>\n",
       "  <tbody>\n",
       "    <tr>\n",
       "      <th>0</th>\n",
       "      <td>70.00</td>\n",
       "      <td>Excellent</td>\n",
       "      <td>0</td>\n",
       "      <td>1.0</td>\n",
       "    </tr>\n",
       "    <tr>\n",
       "      <th>1</th>\n",
       "      <td>60.00</td>\n",
       "      <td>Poor</td>\n",
       "      <td>7</td>\n",
       "      <td>0.0</td>\n",
       "    </tr>\n",
       "    <tr>\n",
       "      <th>2</th>\n",
       "      <td>35.00</td>\n",
       "      <td>Poor</td>\n",
       "      <td>5</td>\n",
       "      <td>1.0</td>\n",
       "    </tr>\n",
       "    <tr>\n",
       "      <th>3</th>\n",
       "      <td>62.75</td>\n",
       "      <td>Excellent</td>\n",
       "      <td>8</td>\n",
       "      <td>1.0</td>\n",
       "    </tr>\n",
       "    <tr>\n",
       "      <th>4</th>\n",
       "      <td>86.00</td>\n",
       "      <td>Good</td>\n",
       "      <td>9</td>\n",
       "      <td>0.0</td>\n",
       "    </tr>\n",
       "  </tbody>\n",
       "</table>\n",
       "</div>"
      ],
      "text/plain": [
       "     age health_status  disease_symptoms  gender_encoded\n",
       "0  70.00     Excellent                 0             1.0\n",
       "1  60.00          Poor                 7             0.0\n",
       "2  35.00          Poor                 5             1.0\n",
       "3  62.75     Excellent                 8             1.0\n",
       "4  86.00          Good                 9             0.0"
      ]
     },
     "execution_count": 5,
     "metadata": {},
     "output_type": "execute_result"
    }
   ],
   "source": [
    "from sklearn.preprocessing import OneHotEncoder\n",
    "\n",
    "# Create a OneHotEncoder object and drop one category if binary\n",
    "onehot_encoder = OneHotEncoder(drop='if_binary', sparse_output=False)\n",
    "gender_encoded = onehot_encoder.fit_transform(X[['gender']])\n",
    "\n",
    "# Replace the original 'gender' column with the new binary column\n",
    "X['gender_encoded'] = gender_encoded\n",
    "\n",
    "X = X.drop(columns=['gender'])\n",
    "\n",
    "X"
   ]
  },
  {
   "cell_type": "markdown",
   "id": "c4395e53",
   "metadata": {},
   "source": [
    "Now, you encoded the ```gender``` attribute, you get three different columns containing the encoded values. Add them in the dataframe ```X``` with the appropriate names.\n",
    "\n",
    "<div class=\"alert alert-warning\">\n",
    "Hint 1:  Encoded columns are in lexicographical order.\n",
    "</div>\n",
    "<div class=\"alert alert-warning\">\n",
    "    \n",
    "Hint 2:  Remember to drop the non-encoded attribute from ```X```.\n",
    "</div>"
   ]
  },
  {
   "cell_type": "markdown",
   "id": "toxic-nitrogen",
   "metadata": {},
   "source": [
    "<div class=\"alert alert-info\"><b>Exercise 1.5</b> \n",
    "\n",
    "Use the sklearn library to create an integer encoder for the ```health_status``` attribute. Store the new variable in a column called ```health_status_ENC``` and remove the original column.</div>"
   ]
  },
  {
   "cell_type": "code",
   "execution_count": 6,
   "id": "floating-daisy",
   "metadata": {},
   "outputs": [
    {
     "data": {
      "text/html": [
       "<div>\n",
       "<style scoped>\n",
       "    .dataframe tbody tr th:only-of-type {\n",
       "        vertical-align: middle;\n",
       "    }\n",
       "\n",
       "    .dataframe tbody tr th {\n",
       "        vertical-align: top;\n",
       "    }\n",
       "\n",
       "    .dataframe thead th {\n",
       "        text-align: right;\n",
       "    }\n",
       "</style>\n",
       "<table border=\"1\" class=\"dataframe\">\n",
       "  <thead>\n",
       "    <tr style=\"text-align: right;\">\n",
       "      <th></th>\n",
       "      <th>age</th>\n",
       "      <th>disease_symptoms</th>\n",
       "      <th>gender_encoded</th>\n",
       "      <th>health_status_ENC</th>\n",
       "    </tr>\n",
       "  </thead>\n",
       "  <tbody>\n",
       "    <tr>\n",
       "      <th>0</th>\n",
       "      <td>70.00</td>\n",
       "      <td>0</td>\n",
       "      <td>1.0</td>\n",
       "      <td>0.0</td>\n",
       "    </tr>\n",
       "    <tr>\n",
       "      <th>1</th>\n",
       "      <td>60.00</td>\n",
       "      <td>7</td>\n",
       "      <td>0.0</td>\n",
       "      <td>2.0</td>\n",
       "    </tr>\n",
       "    <tr>\n",
       "      <th>2</th>\n",
       "      <td>35.00</td>\n",
       "      <td>5</td>\n",
       "      <td>1.0</td>\n",
       "      <td>2.0</td>\n",
       "    </tr>\n",
       "    <tr>\n",
       "      <th>3</th>\n",
       "      <td>62.75</td>\n",
       "      <td>8</td>\n",
       "      <td>1.0</td>\n",
       "      <td>0.0</td>\n",
       "    </tr>\n",
       "    <tr>\n",
       "      <th>4</th>\n",
       "      <td>86.00</td>\n",
       "      <td>9</td>\n",
       "      <td>0.0</td>\n",
       "      <td>1.0</td>\n",
       "    </tr>\n",
       "  </tbody>\n",
       "</table>\n",
       "</div>"
      ],
      "text/plain": [
       "     age  disease_symptoms  gender_encoded  health_status_ENC\n",
       "0  70.00                 0             1.0                0.0\n",
       "1  60.00                 7             0.0                2.0\n",
       "2  35.00                 5             1.0                2.0\n",
       "3  62.75                 8             1.0                0.0\n",
       "4  86.00                 9             0.0                1.0"
      ]
     },
     "execution_count": 6,
     "metadata": {},
     "output_type": "execute_result"
    }
   ],
   "source": [
    "from sklearn.preprocessing import OrdinalEncoder\n",
    "\n",
    "categories = [['Excellent', 'Good', 'Poor']]\n",
    "\n",
    "ordinal_encoder = OrdinalEncoder(categories = categories)\n",
    "health_status_encoded = ordinal_encoder.fit_transform(X[['health_status']])\n",
    "\n",
    "X['health_status_ENC'] = health_status_encoded\n",
    "X = X.drop(columns = ['health_status'])\n",
    "\n",
    "X"
   ]
  },
  {
   "cell_type": "markdown",
   "id": "6b0c41c2",
   "metadata": {},
   "source": [
    "<div class=\"alert alert-warning\">\n",
    "    \n",
    "Hint:  Remember to drop the non-encoded attribute from ```X```.\n",
    "</div>"
   ]
  },
  {
   "cell_type": "markdown",
   "id": "f7ca0907",
   "metadata": {},
   "source": [
    "<div class=\"alert alert-info\"><b>Exercise 1.6</b> \n",
    "\n",
    "Write the code to normalize the dataset ```X``` using the StandarScaler from the sklearn library.\n",
    "</div>"
   ]
  },
  {
   "cell_type": "code",
   "execution_count": 7,
   "id": "ef860d92",
   "metadata": {},
   "outputs": [
    {
     "data": {
      "text/html": [
       "<div>\n",
       "<style scoped>\n",
       "    .dataframe tbody tr th:only-of-type {\n",
       "        vertical-align: middle;\n",
       "    }\n",
       "\n",
       "    .dataframe tbody tr th {\n",
       "        vertical-align: top;\n",
       "    }\n",
       "\n",
       "    .dataframe thead th {\n",
       "        text-align: right;\n",
       "    }\n",
       "</style>\n",
       "<table border=\"1\" class=\"dataframe\">\n",
       "  <thead>\n",
       "    <tr style=\"text-align: right;\">\n",
       "      <th></th>\n",
       "      <th>age</th>\n",
       "      <th>disease_symptoms</th>\n",
       "      <th>gender_encoded</th>\n",
       "      <th>health_status_ENC</th>\n",
       "    </tr>\n",
       "  </thead>\n",
       "  <tbody>\n",
       "    <tr>\n",
       "      <th>0</th>\n",
       "      <td>0.437869</td>\n",
       "      <td>-1.819622</td>\n",
       "      <td>0.816497</td>\n",
       "      <td>-1.118034</td>\n",
       "    </tr>\n",
       "    <tr>\n",
       "      <th>1</th>\n",
       "      <td>-0.166088</td>\n",
       "      <td>0.376473</td>\n",
       "      <td>-1.224745</td>\n",
       "      <td>1.118034</td>\n",
       "    </tr>\n",
       "    <tr>\n",
       "      <th>2</th>\n",
       "      <td>-1.675980</td>\n",
       "      <td>-0.250982</td>\n",
       "      <td>0.816497</td>\n",
       "      <td>1.118034</td>\n",
       "    </tr>\n",
       "    <tr>\n",
       "      <th>3</th>\n",
       "      <td>0.000000</td>\n",
       "      <td>0.690201</td>\n",
       "      <td>0.816497</td>\n",
       "      <td>-1.118034</td>\n",
       "    </tr>\n",
       "    <tr>\n",
       "      <th>4</th>\n",
       "      <td>1.404200</td>\n",
       "      <td>1.003929</td>\n",
       "      <td>-1.224745</td>\n",
       "      <td>0.000000</td>\n",
       "    </tr>\n",
       "  </tbody>\n",
       "</table>\n",
       "</div>"
      ],
      "text/plain": [
       "        age  disease_symptoms  gender_encoded  health_status_ENC\n",
       "0  0.437869         -1.819622        0.816497          -1.118034\n",
       "1 -0.166088          0.376473       -1.224745           1.118034\n",
       "2 -1.675980         -0.250982        0.816497           1.118034\n",
       "3  0.000000          0.690201        0.816497          -1.118034\n",
       "4  1.404200          1.003929       -1.224745           0.000000"
      ]
     },
     "execution_count": 7,
     "metadata": {},
     "output_type": "execute_result"
    }
   ],
   "source": [
    "from sklearn.preprocessing import StandardScaler\n",
    "\n",
    "scaler = StandardScaler()\n",
    "\n",
    "X_scaled = scaler.fit_transform(X)\n",
    "\n",
    "X_scaled"
   ]
  },
  {
   "cell_type": "markdown",
   "id": "convinced-brass",
   "metadata": {},
   "source": [
    "## Exercise 2\n",
    "\n",
    "In the following link, you can download a dataset that contains sociodemographic about different family structures.\n",
    "\n",
    "https://raw.githubusercontent.com/jnin/information-systems/main/data/social_class.csv\n",
    "\n",
    "The data are presented in a CSV format. You will need to load it using the ```read_csv``` Pandas function. \n",
    "\n",
    "The dataset contains the following attributes:\n",
    "\n",
    "* gender\n",
    "* num_children\n",
    "* income\n",
    "* social_class"
   ]
  },
  {
   "cell_type": "markdown",
   "id": "fixed-canyon",
   "metadata": {},
   "source": [
    "<div class=\"alert alert-info\"><b>Exercise 2.1</b> \n",
    "\n",
    "Create a dataframe called ```df``` that contains the provided data.</div>"
   ]
  },
  {
   "cell_type": "code",
   "execution_count": 8,
   "id": "processed-prescription",
   "metadata": {},
   "outputs": [
    {
     "data": {
      "text/html": [
       "<div>\n",
       "<style scoped>\n",
       "    .dataframe tbody tr th:only-of-type {\n",
       "        vertical-align: middle;\n",
       "    }\n",
       "\n",
       "    .dataframe tbody tr th {\n",
       "        vertical-align: top;\n",
       "    }\n",
       "\n",
       "    .dataframe thead th {\n",
       "        text-align: right;\n",
       "    }\n",
       "</style>\n",
       "<table border=\"1\" class=\"dataframe\">\n",
       "  <thead>\n",
       "    <tr style=\"text-align: right;\">\n",
       "      <th></th>\n",
       "      <th>gender</th>\n",
       "      <th>num_children</th>\n",
       "      <th>income</th>\n",
       "      <th>social_class</th>\n",
       "    </tr>\n",
       "  </thead>\n",
       "  <tbody>\n",
       "    <tr>\n",
       "      <th>0</th>\n",
       "      <td>Female</td>\n",
       "      <td>4</td>\n",
       "      <td>2500.0</td>\n",
       "      <td>Middle-Lower</td>\n",
       "    </tr>\n",
       "    <tr>\n",
       "      <th>1</th>\n",
       "      <td>Hombre</td>\n",
       "      <td>1</td>\n",
       "      <td>3002.3</td>\n",
       "      <td>Middle-Middle</td>\n",
       "    </tr>\n",
       "    <tr>\n",
       "      <th>2</th>\n",
       "      <td>Hombre</td>\n",
       "      <td>1</td>\n",
       "      <td>4274.1</td>\n",
       "      <td>Middle-Upper</td>\n",
       "    </tr>\n",
       "    <tr>\n",
       "      <th>3</th>\n",
       "      <td>Hombre</td>\n",
       "      <td>0</td>\n",
       "      <td>1200.0</td>\n",
       "      <td>Middle-Middle</td>\n",
       "    </tr>\n",
       "    <tr>\n",
       "      <th>4</th>\n",
       "      <td>Hombre</td>\n",
       "      <td>1</td>\n",
       "      <td>2774.6</td>\n",
       "      <td>Middle-Lower</td>\n",
       "    </tr>\n",
       "    <tr>\n",
       "      <th>...</th>\n",
       "      <td>...</td>\n",
       "      <td>...</td>\n",
       "      <td>...</td>\n",
       "      <td>...</td>\n",
       "    </tr>\n",
       "    <tr>\n",
       "      <th>995</th>\n",
       "      <td>Hombre</td>\n",
       "      <td>1</td>\n",
       "      <td>3467.9</td>\n",
       "      <td>Middle-Upper</td>\n",
       "    </tr>\n",
       "    <tr>\n",
       "      <th>996</th>\n",
       "      <td>Female</td>\n",
       "      <td>4</td>\n",
       "      <td>3445.7</td>\n",
       "      <td>Middle-Upper</td>\n",
       "    </tr>\n",
       "    <tr>\n",
       "      <th>997</th>\n",
       "      <td>Hombre</td>\n",
       "      <td>0</td>\n",
       "      <td>2728.5</td>\n",
       "      <td>Middle-Middle</td>\n",
       "    </tr>\n",
       "    <tr>\n",
       "      <th>998</th>\n",
       "      <td>Hombre</td>\n",
       "      <td>1</td>\n",
       "      <td>3398.7</td>\n",
       "      <td>Middle-Middle</td>\n",
       "    </tr>\n",
       "    <tr>\n",
       "      <th>999</th>\n",
       "      <td>Hombre</td>\n",
       "      <td>0</td>\n",
       "      <td>1258.9</td>\n",
       "      <td>Middle-Lower</td>\n",
       "    </tr>\n",
       "  </tbody>\n",
       "</table>\n",
       "<p>1000 rows × 4 columns</p>\n",
       "</div>"
      ],
      "text/plain": [
       "     gender  num_children  income   social_class\n",
       "0    Female             4  2500.0   Middle-Lower\n",
       "1    Hombre             1  3002.3  Middle-Middle\n",
       "2    Hombre             1  4274.1   Middle-Upper\n",
       "3    Hombre             0  1200.0  Middle-Middle\n",
       "4    Hombre             1  2774.6   Middle-Lower\n",
       "..      ...           ...     ...            ...\n",
       "995  Hombre             1  3467.9   Middle-Upper\n",
       "996  Female             4  3445.7   Middle-Upper\n",
       "997  Hombre             0  2728.5  Middle-Middle\n",
       "998  Hombre             1  3398.7  Middle-Middle\n",
       "999  Hombre             0  1258.9   Middle-Lower\n",
       "\n",
       "[1000 rows x 4 columns]"
      ]
     },
     "execution_count": 8,
     "metadata": {},
     "output_type": "execute_result"
    }
   ],
   "source": [
    "import pandas as pd\n",
    "df = pd.read_csv('https://raw.githubusercontent.com/jnin/information-systems/main/data/social_class.csv')\n",
    "df"
   ]
  },
  {
   "cell_type": "markdown",
   "id": "080df549",
   "metadata": {},
   "source": [
    "<div class=\"alert alert-info\"><b>Exercise 2.2</b> \n",
    "\n",
    "Plot the histogram of the income column. If you observe the distribution, you will realize that there are some outliers. Specifically, some individuals earning a very high salary. Remove them using the ```.quantile()``` Pandas function.\n",
    "</div>\n",
    "<div class=\"alert alert-warning\">\n",
    "    \n",
    "Hint: You can use the function ```hist()``` to plot the histogram for column ```income```.\n",
    "</div>"
   ]
  },
  {
   "cell_type": "code",
   "execution_count": 9,
   "id": "06b5bced",
   "metadata": {},
   "outputs": [
    {
     "data": {
      "image/png": "[encoded data removed]",
      "text/plain": [
       "<Figure size 1000x600 with 1 Axes>"
      ]
     },
     "metadata": {},
     "output_type": "display_data"
    }
   ],
   "source": [
    "import matplotlib.pyplot as plt\n",
    "\n",
    "#Ploting the income distribution\n",
    "plt.figure(figsize=(10, 6))\n",
    "plt.hist(df['income'], bins=30, color='skyblue', edgecolor='black')\n",
    "plt.title('Income Distribution')\n",
    "plt.xlabel('Income')\n",
    "plt.ylabel('Frequency')\n",
    "plt.grid(axis='y', alpha=0.75)\n",
    "plt.show()\n",
    "\n",
    "#Removing outliers\n",
    "upper_quantile = df['income'].quantile(0.95)"
   ]
  },
  {
   "cell_type": "markdown",
   "id": "fda62d3c",
   "metadata": {},
   "source": [
    "Now, drop the values from ```df```"
   ]
  },
  {
   "cell_type": "code",
   "execution_count": 10,
   "id": "29dd4bba",
   "metadata": {},
   "outputs": [],
   "source": [
    "df = df[df['income'] <= upper_quantile]"
   ]
  },
  {
   "cell_type": "markdown",
   "id": "c3a21b46",
   "metadata": {},
   "source": [
    "Finally, plot again the histogram and observe the differences"
   ]
  },
  {
   "cell_type": "code",
   "execution_count": 11,
   "id": "5fd7d12e",
   "metadata": {},
   "outputs": [
    {
     "data": {
      "image/png": "[encoded data removed]",
      "text/plain": [
       "<Figure size 1000x600 with 1 Axes>"
      ]
     },
     "metadata": {},
     "output_type": "display_data"
    }
   ],
   "source": [
    "plt.figure(figsize=(10, 6))\n",
    "plt.hist(df['income'], bins=30, color='skyblue', edgecolor='black')\n",
    "plt.title('Income Distribution')\n",
    "plt.xlabel('Income')\n",
    "plt.ylabel('Frequency')\n",
    "plt.grid(axis='y', alpha=0.75)\n",
    "plt.show()"
   ]
  },
  {
   "cell_type": "markdown",
   "id": "finite-acting",
   "metadata": {},
   "source": [
    "<div class=\"alert alert-info\"><b>Exercise 2.3</b> \n",
    "\n",
    "Extract the features matrix and target array from the original DataFrame and store them in two new variables ```X``` and ```y```. Use column ```income``` as the depedent variable.\n",
    "</div>"
   ]
  },
  {
   "cell_type": "code",
   "execution_count": 12,
   "id": "compatible-princeton",
   "metadata": {},
   "outputs": [],
   "source": [
    "X = df.drop(columns = ['income'])\n",
    "y = df['income']"
   ]
  },
  {
   "cell_type": "markdown",
   "id": "existing-conviction",
   "metadata": {},
   "source": [
    "<div class=\"alert alert-info\"><b>Exercise 2.4</b> \n",
    "\n",
    "Use the sklearn library to create a one-hot encoder for the ```gender``` attribute. Store the resulting information in two new columns called ```male``` and ```female``` and remove the original attribute from the dataframe.\n",
    "</div>"
   ]
  },
  {
   "cell_type": "code",
   "execution_count": 13,
   "id": "rotary-prize",
   "metadata": {},
   "outputs": [
    {
     "data": {
      "text/html": [
       "<div>\n",
       "<style scoped>\n",
       "    .dataframe tbody tr th:only-of-type {\n",
       "        vertical-align: middle;\n",
       "    }\n",
       "\n",
       "    .dataframe tbody tr th {\n",
       "        vertical-align: top;\n",
       "    }\n",
       "\n",
       "    .dataframe thead th {\n",
       "        text-align: right;\n",
       "    }\n",
       "</style>\n",
       "<table border=\"1\" class=\"dataframe\">\n",
       "  <thead>\n",
       "    <tr style=\"text-align: right;\">\n",
       "      <th></th>\n",
       "      <th>num_children</th>\n",
       "      <th>social_class</th>\n",
       "      <th>Female</th>\n",
       "      <th>Male</th>\n",
       "    </tr>\n",
       "  </thead>\n",
       "  <tbody>\n",
       "    <tr>\n",
       "      <th>0</th>\n",
       "      <td>4</td>\n",
       "      <td>Middle-Lower</td>\n",
       "      <td>1.0</td>\n",
       "      <td>0.0</td>\n",
       "    </tr>\n",
       "    <tr>\n",
       "      <th>1</th>\n",
       "      <td>1</td>\n",
       "      <td>Middle-Middle</td>\n",
       "      <td>0.0</td>\n",
       "      <td>1.0</td>\n",
       "    </tr>\n",
       "    <tr>\n",
       "      <th>2</th>\n",
       "      <td>1</td>\n",
       "      <td>Middle-Upper</td>\n",
       "      <td>0.0</td>\n",
       "      <td>1.0</td>\n",
       "    </tr>\n",
       "    <tr>\n",
       "      <th>3</th>\n",
       "      <td>0</td>\n",
       "      <td>Middle-Middle</td>\n",
       "      <td>0.0</td>\n",
       "      <td>1.0</td>\n",
       "    </tr>\n",
       "    <tr>\n",
       "      <th>4</th>\n",
       "      <td>1</td>\n",
       "      <td>Middle-Lower</td>\n",
       "      <td>0.0</td>\n",
       "      <td>1.0</td>\n",
       "    </tr>\n",
       "    <tr>\n",
       "      <th>...</th>\n",
       "      <td>...</td>\n",
       "      <td>...</td>\n",
       "      <td>...</td>\n",
       "      <td>...</td>\n",
       "    </tr>\n",
       "    <tr>\n",
       "      <th>995</th>\n",
       "      <td>1</td>\n",
       "      <td>Middle-Upper</td>\n",
       "      <td>0.0</td>\n",
       "      <td>1.0</td>\n",
       "    </tr>\n",
       "    <tr>\n",
       "      <th>996</th>\n",
       "      <td>4</td>\n",
       "      <td>Middle-Upper</td>\n",
       "      <td>1.0</td>\n",
       "      <td>0.0</td>\n",
       "    </tr>\n",
       "    <tr>\n",
       "      <th>997</th>\n",
       "      <td>0</td>\n",
       "      <td>Middle-Middle</td>\n",
       "      <td>0.0</td>\n",
       "      <td>1.0</td>\n",
       "    </tr>\n",
       "    <tr>\n",
       "      <th>998</th>\n",
       "      <td>1</td>\n",
       "      <td>Middle-Middle</td>\n",
       "      <td>0.0</td>\n",
       "      <td>1.0</td>\n",
       "    </tr>\n",
       "    <tr>\n",
       "      <th>999</th>\n",
       "      <td>0</td>\n",
       "      <td>Middle-Lower</td>\n",
       "      <td>0.0</td>\n",
       "      <td>1.0</td>\n",
       "    </tr>\n",
       "  </tbody>\n",
       "</table>\n",
       "<p>951 rows × 4 columns</p>\n",
       "</div>"
      ],
      "text/plain": [
       "     num_children   social_class  Female  Male\n",
       "0               4   Middle-Lower     1.0   0.0\n",
       "1               1  Middle-Middle     0.0   1.0\n",
       "2               1   Middle-Upper     0.0   1.0\n",
       "3               0  Middle-Middle     0.0   1.0\n",
       "4               1   Middle-Lower     0.0   1.0\n",
       "..            ...            ...     ...   ...\n",
       "995             1   Middle-Upper     0.0   1.0\n",
       "996             4   Middle-Upper     1.0   0.0\n",
       "997             0  Middle-Middle     0.0   1.0\n",
       "998             1  Middle-Middle     0.0   1.0\n",
       "999             0   Middle-Lower     0.0   1.0\n",
       "\n",
       "[951 rows x 4 columns]"
      ]
     },
     "execution_count": 13,
     "metadata": {},
     "output_type": "execute_result"
    }
   ],
   "source": [
    "from sklearn.preprocessing import OneHotEncoder\n",
    "\n",
    "onehot_encoder = OneHotEncoder(drop = None, sparse_output=False)\n",
    "gender_encoded = onehot_encoder.fit_transform(X[['gender']])\n",
    "X[['Female', 'Male']] = gender_encoded\n",
    "\n",
    "X = X.drop(columns = ['gender'])\n",
    "\n",
    "X"
   ]
  },
  {
   "cell_type": "markdown",
   "id": "9a6f3ec3",
   "metadata": {},
   "source": [
    "Now, you encoded the ```gender``` attribute, you get three different columns containing the encoded values. Add them in the dataframe ```X``` with the appropriate names.\n",
    "\n",
    "<div class=\"alert alert-warning\">\n",
    "Hint 1:  Encoded columns are in lexicographical order.\n",
    "</div>\n",
    "<div class=\"alert alert-warning\">\n",
    "    \n",
    "Hint 2:  Remember to drop the non-encoded attribute from ```X```.\n",
    "</div>"
   ]
  },
  {
   "cell_type": "markdown",
   "id": "growing-split",
   "metadata": {},
   "source": [
    "<div class=\"alert alert-info\"><b>Exercise 2.5</b> \n",
    "\n",
    "Use the sklearn library to create an integer encoder for the ```social_class``` attribute.\n",
    "</div>\n",
    "<div class=\"alert alert-warning\">\n",
    "    \n",
    "Hint: You can use the function ```value_counts()``` to retrieve the labels from the column ```social_class```.\n",
    "</div>"
   ]
  },
  {
   "cell_type": "code",
   "execution_count": 14,
   "id": "casual-station",
   "metadata": {},
   "outputs": [],
   "source": [
    "from sklearn.preprocessing import OrdinalEncoder\n",
    "\n",
    "categories = [X['social_class'].value_counts().index.tolist()]\n",
    "\n",
    "ordinal_encoder = OrdinalEncoder(categories = categories)\n",
    "social_class_encoded = ordinal_encoder.fit_transform(X[['social_class']])"
   ]
  },
  {
   "cell_type": "markdown",
   "id": "a51f924e",
   "metadata": {},
   "source": [
    "Now, create a list with the ordered categories and create a new attibute called ```social_class_ENC``` inside the ```X``` dataframe"
   ]
  },
  {
   "cell_type": "code",
   "execution_count": 15,
   "id": "falling-integrity",
   "metadata": {},
   "outputs": [],
   "source": [
    "X['social_class_ENC'] = social_class_encoded"
   ]
  },
  {
   "cell_type": "markdown",
   "id": "16051d67",
   "metadata": {},
   "source": [
    "Finally, drop the non-encoded ```social_class``` attribute from ```X```."
   ]
  },
  {
   "cell_type": "code",
   "execution_count": 16,
   "id": "concrete-childhood",
   "metadata": {},
   "outputs": [
    {
     "data": {
      "text/html": [
       "<div>\n",
       "<style scoped>\n",
       "    .dataframe tbody tr th:only-of-type {\n",
       "        vertical-align: middle;\n",
       "    }\n",
       "\n",
       "    .dataframe tbody tr th {\n",
       "        vertical-align: top;\n",
       "    }\n",
       "\n",
       "    .dataframe thead th {\n",
       "        text-align: right;\n",
       "    }\n",
       "</style>\n",
       "<table border=\"1\" class=\"dataframe\">\n",
       "  <thead>\n",
       "    <tr style=\"text-align: right;\">\n",
       "      <th></th>\n",
       "      <th>num_children</th>\n",
       "      <th>Female</th>\n",
       "      <th>Male</th>\n",
       "      <th>social_class_ENC</th>\n",
       "    </tr>\n",
       "  </thead>\n",
       "  <tbody>\n",
       "    <tr>\n",
       "      <th>0</th>\n",
       "      <td>4</td>\n",
       "      <td>1.0</td>\n",
       "      <td>0.0</td>\n",
       "      <td>1.0</td>\n",
       "    </tr>\n",
       "    <tr>\n",
       "      <th>1</th>\n",
       "      <td>1</td>\n",
       "      <td>0.0</td>\n",
       "      <td>1.0</td>\n",
       "      <td>0.0</td>\n",
       "    </tr>\n",
       "    <tr>\n",
       "      <th>2</th>\n",
       "      <td>1</td>\n",
       "      <td>0.0</td>\n",
       "      <td>1.0</td>\n",
       "      <td>2.0</td>\n",
       "    </tr>\n",
       "    <tr>\n",
       "      <th>3</th>\n",
       "      <td>0</td>\n",
       "      <td>0.0</td>\n",
       "      <td>1.0</td>\n",
       "      <td>0.0</td>\n",
       "    </tr>\n",
       "    <tr>\n",
       "      <th>4</th>\n",
       "      <td>1</td>\n",
       "      <td>0.0</td>\n",
       "      <td>1.0</td>\n",
       "      <td>1.0</td>\n",
       "    </tr>\n",
       "    <tr>\n",
       "      <th>...</th>\n",
       "      <td>...</td>\n",
       "      <td>...</td>\n",
       "      <td>...</td>\n",
       "      <td>...</td>\n",
       "    </tr>\n",
       "    <tr>\n",
       "      <th>995</th>\n",
       "      <td>1</td>\n",
       "      <td>0.0</td>\n",
       "      <td>1.0</td>\n",
       "      <td>2.0</td>\n",
       "    </tr>\n",
       "    <tr>\n",
       "      <th>996</th>\n",
       "      <td>4</td>\n",
       "      <td>1.0</td>\n",
       "      <td>0.0</td>\n",
       "      <td>2.0</td>\n",
       "    </tr>\n",
       "    <tr>\n",
       "      <th>997</th>\n",
       "      <td>0</td>\n",
       "      <td>0.0</td>\n",
       "      <td>1.0</td>\n",
       "      <td>0.0</td>\n",
       "    </tr>\n",
       "    <tr>\n",
       "      <th>998</th>\n",
       "      <td>1</td>\n",
       "      <td>0.0</td>\n",
       "      <td>1.0</td>\n",
       "      <td>0.0</td>\n",
       "    </tr>\n",
       "    <tr>\n",
       "      <th>999</th>\n",
       "      <td>0</td>\n",
       "      <td>0.0</td>\n",
       "      <td>1.0</td>\n",
       "      <td>1.0</td>\n",
       "    </tr>\n",
       "  </tbody>\n",
       "</table>\n",
       "<p>951 rows × 4 columns</p>\n",
       "</div>"
      ],
      "text/plain": [
       "     num_children  Female  Male  social_class_ENC\n",
       "0               4     1.0   0.0               1.0\n",
       "1               1     0.0   1.0               0.0\n",
       "2               1     0.0   1.0               2.0\n",
       "3               0     0.0   1.0               0.0\n",
       "4               1     0.0   1.0               1.0\n",
       "..            ...     ...   ...               ...\n",
       "995             1     0.0   1.0               2.0\n",
       "996             4     1.0   0.0               2.0\n",
       "997             0     0.0   1.0               0.0\n",
       "998             1     0.0   1.0               0.0\n",
       "999             0     0.0   1.0               1.0\n",
       "\n",
       "[951 rows x 4 columns]"
      ]
     },
     "execution_count": 16,
     "metadata": {},
     "output_type": "execute_result"
    }
   ],
   "source": [
    "X = X.drop(columns = ['social_class'])\n",
    "X"
   ]
  },
  {
   "cell_type": "markdown",
   "id": "66cae692",
   "metadata": {},
   "source": [
    "<div class=\"alert alert-info\"><b>Exercise 2.6</b> \n",
    "\n",
    "Write the code to normalize the dataset ```X``` using the MinMaxScaler from the sklearn library.\n",
    "</div>"
   ]
  },
  {
   "cell_type": "code",
   "execution_count": 17,
   "id": "57ce1e90",
   "metadata": {},
   "outputs": [
    {
     "data": {
      "text/html": [
       "<div>\n",
       "<style scoped>\n",
       "    .dataframe tbody tr th:only-of-type {\n",
       "        vertical-align: middle;\n",
       "    }\n",
       "\n",
       "    .dataframe tbody tr th {\n",
       "        vertical-align: top;\n",
       "    }\n",
       "\n",
       "    .dataframe thead th {\n",
       "        text-align: right;\n",
       "    }\n",
       "</style>\n",
       "<table border=\"1\" class=\"dataframe\">\n",
       "  <thead>\n",
       "    <tr style=\"text-align: right;\">\n",
       "      <th></th>\n",
       "      <th>num_children</th>\n",
       "      <th>Female</th>\n",
       "      <th>Male</th>\n",
       "      <th>social_class_ENC</th>\n",
       "    </tr>\n",
       "  </thead>\n",
       "  <tbody>\n",
       "    <tr>\n",
       "      <th>0</th>\n",
       "      <td>0.571429</td>\n",
       "      <td>1.0</td>\n",
       "      <td>0.0</td>\n",
       "      <td>0.25</td>\n",
       "    </tr>\n",
       "    <tr>\n",
       "      <th>1</th>\n",
       "      <td>0.142857</td>\n",
       "      <td>0.0</td>\n",
       "      <td>1.0</td>\n",
       "      <td>0.00</td>\n",
       "    </tr>\n",
       "    <tr>\n",
       "      <th>2</th>\n",
       "      <td>0.142857</td>\n",
       "      <td>0.0</td>\n",
       "      <td>1.0</td>\n",
       "      <td>0.50</td>\n",
       "    </tr>\n",
       "    <tr>\n",
       "      <th>3</th>\n",
       "      <td>0.000000</td>\n",
       "      <td>0.0</td>\n",
       "      <td>1.0</td>\n",
       "      <td>0.00</td>\n",
       "    </tr>\n",
       "    <tr>\n",
       "      <th>4</th>\n",
       "      <td>0.142857</td>\n",
       "      <td>0.0</td>\n",
       "      <td>1.0</td>\n",
       "      <td>0.25</td>\n",
       "    </tr>\n",
       "    <tr>\n",
       "      <th>...</th>\n",
       "      <td>...</td>\n",
       "      <td>...</td>\n",
       "      <td>...</td>\n",
       "      <td>...</td>\n",
       "    </tr>\n",
       "    <tr>\n",
       "      <th>995</th>\n",
       "      <td>0.142857</td>\n",
       "      <td>0.0</td>\n",
       "      <td>1.0</td>\n",
       "      <td>0.50</td>\n",
       "    </tr>\n",
       "    <tr>\n",
       "      <th>996</th>\n",
       "      <td>0.571429</td>\n",
       "      <td>1.0</td>\n",
       "      <td>0.0</td>\n",
       "      <td>0.50</td>\n",
       "    </tr>\n",
       "    <tr>\n",
       "      <th>997</th>\n",
       "      <td>0.000000</td>\n",
       "      <td>0.0</td>\n",
       "      <td>1.0</td>\n",
       "      <td>0.00</td>\n",
       "    </tr>\n",
       "    <tr>\n",
       "      <th>998</th>\n",
       "      <td>0.142857</td>\n",
       "      <td>0.0</td>\n",
       "      <td>1.0</td>\n",
       "      <td>0.00</td>\n",
       "    </tr>\n",
       "    <tr>\n",
       "      <th>999</th>\n",
       "      <td>0.000000</td>\n",
       "      <td>0.0</td>\n",
       "      <td>1.0</td>\n",
       "      <td>0.25</td>\n",
       "    </tr>\n",
       "  </tbody>\n",
       "</table>\n",
       "<p>951 rows × 4 columns</p>\n",
       "</div>"
      ],
      "text/plain": [
       "     num_children  Female  Male  social_class_ENC\n",
       "0        0.571429     1.0   0.0              0.25\n",
       "1        0.142857     0.0   1.0              0.00\n",
       "2        0.142857     0.0   1.0              0.50\n",
       "3        0.000000     0.0   1.0              0.00\n",
       "4        0.142857     0.0   1.0              0.25\n",
       "..            ...     ...   ...               ...\n",
       "995      0.142857     0.0   1.0              0.50\n",
       "996      0.571429     1.0   0.0              0.50\n",
       "997      0.000000     0.0   1.0              0.00\n",
       "998      0.142857     0.0   1.0              0.00\n",
       "999      0.000000     0.0   1.0              0.25\n",
       "\n",
       "[951 rows x 4 columns]"
      ]
     },
     "execution_count": 17,
     "metadata": {},
     "output_type": "execute_result"
    }
   ],
   "source": [
    "from sklearn.preprocessing import MinMaxScaler\n",
    "min_max_scaler = MinMaxScaler()\n",
    "\n",
    "X_normalized = min_max_scaler.fit_transform(X)\n",
    "\n",
    "X_normalized"
   ]
  },
  {
   "cell_type": "markdown",
   "id": "convertible-somewhere",
   "metadata": {},
   "source": [
    "## Exercise 3\n",
    "\n",
    "There is a lot of controversy about the relationship between income and ideology. Let's explore a little bit this relationship. However, before we need to pre-process a little bit the data. We have the following attributes:\n",
    "\n",
    "* Gender\n",
    "* Political_ideology\n",
    "* Income\n",
    "* Job_satisfaction\n",
    "\n",
    "In the following link you can download a dataset that contains job information about different individuals.\n",
    "\n",
    "https://raw.githubusercontent.com/jnin/information-systems/main/data/ideology_income.csv\n",
    "\n",
    "The data are presented in a CSV format. You will need to load it using the ```read_csv``` Pandas function. \n",
    "\n",
    "\n",
    "<div class=\"alert alert-info\"><b>Exercise 3.1</b> \n",
    "\n",
    "Create a dataframe called ```data``` that stores the provided data.\n",
    "</div>"
   ]
  },
  {
   "cell_type": "code",
   "execution_count": null,
   "id": "regulation-patient",
   "metadata": {},
   "outputs": [],
   "source": [
    "# YOUR CODE HERE"
   ]
  },
  {
   "cell_type": "markdown",
   "id": "c66bf18e",
   "metadata": {},
   "source": [
    "<div class=\"alert alert-info\"><b>Exercise 3.2</b> \n",
    "\n",
    "Display the histogram of the ```income``` column, and decide whether or not you need to remove outliers.\n",
    "</div>"
   ]
  },
  {
   "cell_type": "code",
   "execution_count": null,
   "id": "4448043c",
   "metadata": {},
   "outputs": [],
   "source": [
    "# YOUR CODE HERE"
   ]
  },
  {
   "cell_type": "markdown",
   "id": "behind-pacific",
   "metadata": {},
   "source": [
    "<div class=\"alert alert-info\"><b>Exercise 3.3</b> \n",
    "\n",
    "Extract the features matrix and target array from the original DataFrame and store them in two new variables ```X``` and ```y```. Use column ```job_satisfaction``` as depedent variable.\n",
    "</div>"
   ]
  },
  {
   "cell_type": "code",
   "execution_count": null,
   "id": "expressed-cache",
   "metadata": {},
   "outputs": [],
   "source": [
    "# YOUR CODE HERE"
   ]
  },
  {
   "cell_type": "markdown",
   "id": "arranged-attempt",
   "metadata": {},
   "source": [
    "<div class=\"alert alert-info\"><b>Exercise 3.4</b> \n",
    "\n",
    "Use the sklearn library to create an integer encoder for the ```political_ideology``` attribute.\n",
    "</div>\n",
    "<div class=\"alert alert-warning\">\n",
    "    \n",
    "Hint: You can use the function ```value_counts()``` to retrieve the labels from the column ```social_class```.\n",
    "</div>"
   ]
  },
  {
   "cell_type": "code",
   "execution_count": null,
   "id": "floral-canon",
   "metadata": {},
   "outputs": [],
   "source": [
    "# YOUR CODE HERE"
   ]
  },
  {
   "cell_type": "markdown",
   "id": "256cb55c",
   "metadata": {},
   "source": [
    "Now, create a list with the ordered categories and create a new attibute called ```political_ideology_ENC``` inside the ```X``` dataframe."
   ]
  },
  {
   "cell_type": "code",
   "execution_count": null,
   "id": "elect-looking",
   "metadata": {},
   "outputs": [],
   "source": [
    "# YOUR CODE HERE"
   ]
  },
  {
   "cell_type": "markdown",
   "id": "fc1dea4c",
   "metadata": {},
   "source": [
    "Finally, drop the non-encoded ```political_ideology``` attribute from ```X```."
   ]
  },
  {
   "cell_type": "code",
   "execution_count": null,
   "id": "a241e18a",
   "metadata": {},
   "outputs": [],
   "source": [
    "# YOUR CODE HERE"
   ]
  },
  {
   "cell_type": "markdown",
   "id": "cec287a9",
   "metadata": {},
   "source": [
    "<div class=\"alert alert-info\"><b>Exercise 3.5</b> \n",
    "\n",
    "Use the sklearn library to create a one-hot encoder for the ```gender``` attribute. Observe the encoder output, and store the information in two new columns called ```female``` and ```male```.\n",
    "</div>"
   ]
  },
  {
   "cell_type": "code",
   "execution_count": null,
   "id": "a0c55d22",
   "metadata": {},
   "outputs": [],
   "source": [
    "# YOUR CODE HERE"
   ]
  },
  {
   "cell_type": "markdown",
   "id": "e992ffc6",
   "metadata": {},
   "source": [
    "Now, you encoded the ```gender``` attribute, you get three different columns containing the encoded values. Add them in the dataframe ```X``` with the appropriate names.\n",
    "\n",
    "<div class=\"alert alert-warning\">\n",
    "Hint 1:  Encoded columns are in lexicographical order.\n",
    "</div>\n",
    "<div class=\"alert alert-warning\">\n",
    "    \n",
    "Hint 2:  Remember to drop the non-encoded attribute from ```X```.\n",
    "</div>"
   ]
  },
  {
   "cell_type": "code",
   "execution_count": null,
   "id": "5f4eb8df",
   "metadata": {},
   "outputs": [],
   "source": [
    "# YOUR CODE HERE"
   ]
  },
  {
   "cell_type": "markdown",
   "id": "32a93d10",
   "metadata": {},
   "source": [
    "<div class=\"alert alert-info\"><b>Exercise 3.6</b> \n",
    "\n",
    "Write the code to normalize the dataset ```X``` using the StandarScaler from the sklearn library.\n",
    "</div>"
   ]
  },
  {
   "cell_type": "code",
   "execution_count": null,
   "id": "834c4455",
   "metadata": {},
   "outputs": [],
   "source": [
    "# YOUR CODE HERE"
   ]
  },
  {
   "cell_type": "markdown",
   "id": "independent-lodge",
   "metadata": {},
   "source": [
    "## Exercise 4\n",
    "\n",
    "Milk consumption is important variable to avoid aging problems. Let's analyze a little bit if there are different habits in the population. We have the following attributes:\n",
    "\n",
    "* gender\n",
    "* height\n",
    "* weight\n",
    "* milk\n",
    "\n",
    "In the following link you can download a dataset that contains milk consumption data about different individuals.\n",
    "\n",
    "https://raw.githubusercontent.com/jnin/information-systems/main/data/milk_consumption.csv\n",
    "\n",
    "The data are presented in a CSV format. You will need to load it using the ```read_csv``` Pandas function. \n",
    "\n",
    "<div class=\"alert alert-info\"><b>Exercise 4.1</b> \n",
    "\n",
    "Create a dataframe called ```data``` that stores the provided data.\n",
    "</div>"
   ]
  },
  {
   "cell_type": "code",
   "execution_count": null,
   "id": "conscious-approval",
   "metadata": {},
   "outputs": [],
   "source": [
    "# YOUR CODE HERE"
   ]
  },
  {
   "cell_type": "markdown",
   "id": "quarterly-judgment",
   "metadata": {},
   "source": [
    "<div class=\"alert alert-info\"><b>Exercise 4.2</b> \n",
    "\n",
    "Extract the features matrix and target array from the original DataFrame and store them in two new variables ```X``` and ```y```. Use column ```milk``` as depedent variable.\n",
    "</div>"
   ]
  },
  {
   "cell_type": "code",
   "execution_count": null,
   "id": "champion-forest",
   "metadata": {},
   "outputs": [],
   "source": [
    "# YOUR CODE HERE"
   ]
  },
  {
   "cell_type": "markdown",
   "id": "pretty-straight",
   "metadata": {},
   "source": [
    "<div class=\"alert alert-info\"><b>Exercise 4.3</b> \n",
    "    \n",
    "Use the sklearn library to create a one-hot encoder for the ```gender``` attribute. Observe the encoder output, and store the information in two new columns called ```female``` and ```male```.\n",
    "</div>"
   ]
  },
  {
   "cell_type": "code",
   "execution_count": null,
   "id": "labeled-liberia",
   "metadata": {},
   "outputs": [],
   "source": [
    "# YOUR CODE HERE"
   ]
  },
  {
   "cell_type": "markdown",
   "id": "f3cb7398",
   "metadata": {},
   "source": [
    "Now, you encoded the ```gender``` attribute, you get three different columns containing the encoded values. Add them in the dataframe ```X``` with the appropriate names.\n",
    "\n",
    "<div class=\"alert alert-warning\">\n",
    "Hint 1:  Encoded columns are in lexicographical order.\n",
    "</div>\n",
    "<div class=\"alert alert-warning\">\n",
    "    \n",
    "Hint 2:  Remember to drop the non-encoded attribute from ```X```.\n",
    "</div>"
   ]
  },
  {
   "cell_type": "code",
   "execution_count": null,
   "id": "trying-freeware",
   "metadata": {},
   "outputs": [],
   "source": [
    "# YOUR CODE HERE"
   ]
  },
  {
   "cell_type": "markdown",
   "id": "fantastic-trademark",
   "metadata": {},
   "source": [
    "<div class=\"alert alert-info\"><b>Exercise 4.4</b> \n",
    "\n",
    "Write the code to normalize the dataset ```X``` using the StandarScaler from the sklearn library.\n",
    "</div>"
   ]
  },
  {
   "cell_type": "code",
   "execution_count": null,
   "id": "featured-horror",
   "metadata": {},
   "outputs": [],
   "source": [
    "# YOUR CODE HERE"
   ]
  }
 ],
 "metadata": {
  "kernelspec": {
   "display_name": "Python 3 (ipykernel)",
   "language": "python",
   "name": "python3"
  },
  "language_info": {
   "codemirror_mode": {
    "name": "ipython",
    "version": 3
   },
   "file_extension": ".py",
   "mimetype": "text/x-python",
   "name": "python",
   "nbconvert_exporter": "python",
   "pygments_lexer": "ipython3",
   "version": "3.11.5"
  }
 },
 "nbformat": 4,
 "nbformat_minor": 5
}
