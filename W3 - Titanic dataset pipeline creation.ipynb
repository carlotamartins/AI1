{
 "cells": [
  {
   "cell_type": "markdown",
   "id": "04966d55",
   "metadata": {},
   "source": [
    "<div class=\"alert alert-danger\">\n",
    "\n",
    "In future sessions, we will cover the importance of using three distinct datasets: training, validation, and test. However, for this assignment, we will conduct all calculations using a single dataset, even though this approach is fundamentally flawed.\n",
    "\n",
    "</div>\n",
    "\n",
    "# Data pre-processing with SciKit-Learn Pipelines\n",
    "\n",
    "All data science projects require a certain level of data cleaning and pre-processing to train machine learning models. Such tasks are time-consuming task and usually tedious.\n",
    "\n",
    "\n",
    "## Pipelines\n",
    "\n",
    "Machine learning pipelines consist of the ordered sequence of steps needed to train a machine learning model. They are an easy option to automate a machine learning workflow. Pipelines can involve pre-processing, feature selection, classification/regression, and post-processing. However, in this notebook, we focus on the pre-processing steps."
   ]
  },
  {
   "cell_type": "markdown",
   "id": "1f7b6443",
   "metadata": {},
   "source": [
    "## Exercise 1\n",
    "\n",
    "In the following link, you can download a dataset that contains information about the Titanic passengers.\n",
    "\n",
    "https://raw.githubusercontent.com/jnin/information-systems/main/data/titanic.csv\n",
    "\n",
    "\n",
    "The data are presented in a csv format. The dataset contains, among others, the following attributes:\n",
    "\n",
    "|Variable\t|Definition\t|Key|\n",
    "|---------|------------|-----------------|\n",
    "|survival\t|Survival\t|0 = No, 1 = Yes|\n",
    "|pclass\t|Ticket class\t|1 = 1st, 2 = 2nd, 3 = 3rd|\n",
    "|sex\t|Sex| female male\t|\n",
    "|Age\t|Age |in years\t|\n",
    "|sibsp\t|# of siblings | spouses aboard the Titanic\t|\n",
    "|parch\t|# of parents/children  |parents/children aboard the Titanic\t|\n",
    "|ticket\t|Ticket number\t||\n",
    "|fare\t|Passenger fare\t||\n",
    "|cabin\t|Cabin number\t||\n",
    "|embarked\t|Port of Embarkation|\tC = Cherbourg, Q = Queenstown, S = Southampton|\n",
    "\n",
    "<div class=\"alert alert-info\"><b>Exercise 1.1</b> \n",
    "\n",
    "Create a dataframe called ```df``` that contains the provided data. Then decide with is target variable and drop from ```df``` statistically non-relevant attributes.\n",
    "</div>"
   ]
  },
  {
   "cell_type": "code",
   "execution_count": null,
   "id": "87b56319",
   "metadata": {},
   "outputs": [],
   "source": [
    "# YOUR CODE HERE"
   ]
  },
  {
   "cell_type": "markdown",
   "id": "67e37f78",
   "metadata": {},
   "source": [
    "<div class=\"alert alert-info\"><b>Exercise 1.2</b> \n",
    "\n",
    "Extract the features matrix and target array from ```df``` and store them in two new variables called ```X```and ```y```, respectively.\n",
    "</div>"
   ]
  },
  {
   "cell_type": "code",
   "execution_count": null,
   "id": "40249fd1",
   "metadata": {},
   "outputs": [],
   "source": [
    "# YOUR CODE HERE"
   ]
  },
  {
   "cell_type": "markdown",
   "id": "d2170366",
   "metadata": {},
   "source": [
    "<div class=\"alert alert-info\"><b>Exercise 1.3</b> \n",
    "Before moving forward, it is a good practice to plot the information and think about the data. \n",
    "</div>\n",
    "\n",
    "<div class=\"alert alert-block alert-warning\">\n",
    "Remember that plotting in python is not part of this subject. The next cell is just for illustration purposes. Execute it and extract some knowledge about the data.\n",
    "</div>"
   ]
  },
  {
   "cell_type": "code",
   "execution_count": null,
   "id": "c7ff291a",
   "metadata": {},
   "outputs": [],
   "source": [
    "%matplotlib inline\n",
    "import seaborn as sns\n",
    "sns.set()\n",
    "sns.pairplot(df, hue='Survived', height=2)"
   ]
  },
  {
   "cell_type": "markdown",
   "id": "957113cb",
   "metadata": {},
   "source": [
    "<div class=\"alert alert-info\"><b>Exercise 1.4</b> \n",
    "Now, let's do a simple sanity check about the data: verify if the dataset contains missing values. Write the code carry on this checking\n",
    "</div>\n",
    "\n",
    "<div class=\"alert alert-block alert-warning\">\n",
    "    \n",
    "To this aim, you can use the Pandas method ```isna()``` together with an appropriate aggregation function. \n",
    "</div>"
   ]
  },
  {
   "cell_type": "code",
   "execution_count": null,
   "id": "61b45b89",
   "metadata": {},
   "outputs": [],
   "source": [
    "# YOUR CODE HERE"
   ]
  },
  {
   "cell_type": "markdown",
   "id": "99ac4050",
   "metadata": {},
   "source": [
    "<div class=\"alert alert-info\"><b>Exercise 1.5</b> \n",
    "    \n",
    "Data pre-processing steps are different if attributes are categorical or numerical. Before continuing, identify each attribute type and define two lists called ```categorical_features``` and ```numerical_features``` to store their column names.\n",
    "</div>"
   ]
  },
  {
   "cell_type": "code",
   "execution_count": null,
   "id": "adc31330",
   "metadata": {},
   "outputs": [],
   "source": [
    "# YOUR CODE HERE"
   ]
  },
  {
   "cell_type": "markdown",
   "id": "665b85bf",
   "metadata": {},
   "source": [
    "<div class=\"alert alert-info\"><b>Exercise 1.6</b> \n",
    "    \n",
    "Think about the required pre-processing steps for each attribute or group of attributes. Then write down a possible workflow to be implemented using Scikit-learn column transformers, be concrete with the step order.\n",
    "</div>\n",
    "\n",
    "<div class=\"alert alert-block alert-warning\">\n",
    "    \n",
    "Remember that Scikit-learn executes columns transformers steps in parallel. If you want to ensure a concrete order, you need to create an inner pipeline inside the transformer.\n",
    "</div>"
   ]
  },
  {
   "cell_type": "markdown",
   "id": "2205b954",
   "metadata": {},
   "source": [
    "\n",
    "\n",
    "<img src=\"https://raw.githubusercontent.com/jnin/information-systems/main/figures/transformer.png\" alt=\"Cross Validation\" style=\"width: 800px;\"/>"
   ]
  },
  {
   "cell_type": "markdown",
   "id": "74ae04eb",
   "metadata": {},
   "source": [
    "<div class=\"alert alert-info\"><b>Exercise 1.7</b> \n",
    "    \n",
    "Write the code for your column transformer, do not include further steps as data normalization or model fitting. \n",
    "    \n",
    "</div>\n",
    "\n",
    "<div class=\"alert alert-block alert-warning\">\n",
    "\n",
    "Remember, you can nest a Scikit-learn pipeline inside a column transformer object.\n",
    "    \n",
    "</div>\n",
    "\n",
    "<div class=\"alert alert-block alert-warning\">\n",
    "\n",
    "Also, remember, steps are defined as tuples containing two or three elements depending on if the step applies to all attributes or only some of them.\n",
    "    \n",
    "</div>\n",
    "\n",
    "<div class=\"alert alert-block alert-warning\">\n",
    "\n",
    "Be clever using the remainder parameter. It allows you to ignore or drop useless attributes.\n",
    "    \n",
    "</div>"
   ]
  },
  {
   "cell_type": "code",
   "execution_count": null,
   "id": "eccaf940",
   "metadata": {},
   "outputs": [],
   "source": [
    "# YOUR CODE HERE"
   ]
  },
  {
   "cell_type": "markdown",
   "id": "08dcd8af",
   "metadata": {},
   "source": [
    "<div class=\"alert alert-info\"><b>Exercise 1.8</b> \n",
    "    \n",
    "Once the pre-processing steps are in place. Write the code to use Scikit-learn pipelines to complete the model training process. You can select any model. Do not about its parameters; we will cover this part next week.\n",
    "</div>\n",
    "\n",
    "<div class=\"alert alert-block alert-warning\">\n",
    "\n",
    "Do not include the accuracy calculation. We will do it later on.\n",
    "\n",
    "</div>"
   ]
  },
  {
   "cell_type": "code",
   "execution_count": null,
   "id": "0f53d9ab",
   "metadata": {},
   "outputs": [],
   "source": [
    "# YOUR CODE HERE"
   ]
  },
  {
   "cell_type": "markdown",
   "id": "cbe32ef2",
   "metadata": {},
   "source": [
    "<div class=\"alert alert-info\"><b>Exercise 1.9</b> \n",
    "    \n",
    "Finally, Write the code to compute the accuracy of your model. Think in couples if the score you got is good or bad and if you trust it.\n",
    "    \n",
    "</div>"
   ]
  },
  {
   "cell_type": "code",
   "execution_count": null,
   "id": "8d4afe82",
   "metadata": {},
   "outputs": [],
   "source": [
    "# YOUR CODE HERE"
   ]
  },
  {
   "cell_type": "markdown",
   "id": "a83c0890",
   "metadata": {},
   "source": [
    "<div class=\"alert alert-danger\">\n",
    "    \n",
    "**Bonus track:**\n",
    "    \n",
    "Repeat the same exercise but with other datasets. Here we provide some datasets to practice:\n",
    "    \n",
    "* https://raw.githubusercontent.com/jnin/information-systems/main/data/mortgages.csv (binary classification task)\n",
    "* https://raw.githubusercontent.com/jnin/information-systems/main/data/NYTreePoints_clean.csv (binary classification task)\n",
    "* https://raw.githubusercontent.com/jnin/information-systems/main/data/Automobile_data.csv (Regression task)\n",
    "    \n",
    "The target variable in all cases is located in the last column.\n",
    "\n",
    "</div>"
   ]
  }
 ],
 "metadata": {
  "kernelspec": {
   "display_name": "Python 3 (ipykernel)",
   "language": "python",
   "name": "python3"
  },
  "language_info": {
   "codemirror_mode": {
    "name": "ipython",
    "version": 3
   },
   "file_extension": ".py",
   "mimetype": "text/x-python",
   "name": "python",
   "nbconvert_exporter": "python",
   "pygments_lexer": "ipython3",
   "version": "3.9.7"
  }
 },
 "nbformat": 4,
 "nbformat_minor": 5
}
